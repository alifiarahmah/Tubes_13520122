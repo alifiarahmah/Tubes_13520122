{
 "cells": [
  {
   "cell_type": "markdown",
   "metadata": {
    "collapsed": false
   },
   "source": [
    "# Tugas Besar IF3270 Pembelajaran Mesin\n",
    "## Bagian B: Implementasi Mini-batch Gradient Descent\n",
    "\n",
    "Anggota kelompok:\n",
    "\n",
    "1. Christine Hutabarat (13520005)\n",
    "2. Hana Fathiyah (13520047)\n",
    "3. Yohana Golkaria Nainggolan (13520053)\n",
    "4. Alifia Rahmah (13520122)\n"
   ]
  },
  {
   "attachments": {},
   "cell_type": "markdown",
   "metadata": {},
   "source": [
    "### Deklarasi Kelas"
   ]
  },
  {
   "cell_type": "code",
   "execution_count": null,
   "metadata": {},
   "outputs": [],
   "source": [
    "import matplotlib.pyplot as plt\n",
    "\n",
    "class Case:\n",
    "    # model: Model\n",
    "    # input: list[list[float]]\n",
    "    # initial_weights: list[list[float]]\n",
    "    # target: list[list[float]]\n",
    "    # learning_rate: float\n",
    "    # batch_size: int\n",
    "    # max_iteration: int\n",
    "    # error_treshold: float\n",
    "\n",
    "    def __init__(self, model, input, initial_weights, target, learning_parameters):\n",
    "        self.model = Model(model[\"input_size\"], model[\"layers\"])\n",
    "        self.input = input\n",
    "        self.initial_weights = initial_weights\n",
    "        self.target = target\n",
    "        self.learning_rate = learning_parameters[\"learning_rate\"]\n",
    "        self.batch_size = learning_parameters[\"batch_size\"]\n",
    "        self.max_iteration = learning_parameters[\"max_iteration\"]\n",
    "        self.error_treshold = learning_parameters[\"error_treshold\"]\n",
    "\n",
    "        # mengembalikan informasi array bobot neuron\n",
    "        def get_arr_neurons_weights(weights):\n",
    "            arr_neurons = []\n",
    "            for i in weights:\n",
    "                arr_neurons.append(i[1:])\n",
    "            return arr_neurons\n",
    "        \n",
    "        self.neuron_weights = get_arr_neurons_weights(self.weights)\n",
    "        \n",
    "        # mengembalikan informasi array bobot bias\n",
    "        def get_arr_bias_weights(weights):\n",
    "            arr_bias = []\n",
    "            for i in weights:\n",
    "                arr_bias.append(i[0])\n",
    "            return arr_bias\n",
    "        \n",
    "        self.bias_weights = get_arr_bias_weights(self.weights)\n",
    "\n",
    "    # menampilkan bobot setiap neuron\n",
    "    def print_weight_labels(self, weight_label):\n",
    "        print(\"Daftar bobot:\")\n",
    "\n",
    "        # filter input weights\n",
    "        x = dict(filter(lambda w: 'x' in w[0][0], weight_label.items()))\n",
    "        for i in sorted(x.items()):\n",
    "            print(i[0], '→', i[1])\n",
    "\n",
    "        # the rest\n",
    "        h = dict(filter(lambda w: 'h' in w[0][0], weight_label.items()))\n",
    "        for i in sorted(h.items()):\n",
    "            print(i[0], '→', i[1])\n",
    "\n",
    "class Model:\n",
    "    # input_size: int\n",
    "    # layers: list[Layer]\n",
    "\n",
    "    def __init__(self, input_size, layers):\n",
    "        self.input_size = input_size\n",
    "        self.layers = []\n",
    "\n",
    "        # membuat array dari layer\n",
    "        def create_array_layer(layers):\n",
    "            arr_layers = []\n",
    "            for i in range(len(layers)):\n",
    "                arr_layers.append(Layer(layers[i][\"number_of_neurons\"], layers[i][\"activation_function\"]))\n",
    "            return arr_layers\n",
    "\n",
    "        self.layers = create_array_layer(layers)\n",
    "        self.cnt_layers = len(self.layers)\n",
    "\n",
    "class Layer:\n",
    "    # number_of_neurons: int\n",
    "    # activation_function: \"linear\" | \"relu\" | \"sigmoid\" | \"softmax\"\n",
    "\n",
    "    def __init__ (self, number_of_neurons, activation_function):\n",
    "        self.number_of_neurons = number_of_neurons\n",
    "        self.activation_function = activation_function\n",
    "\n",
    "    # menampilkan informasi layer\n",
    "    def __str__ (self):\n",
    "        return f'number of neurons: {self.number_of_neurons}\\nactivation_function: {self.activation_function}\\n'\n",
    "\n",
    "class Expect:\n",
    "    # stopped_by: \"max_iteration\" | \"error_treshold\"\n",
    "    # final_weights: list[list[float]]\n",
    "\n",
    "    def __init__ (self, stopped_by, final_weights):\n",
    "        self.stopped_by = stopped_by\n",
    "        self.final_weights = final_weights"
   ]
  },
  {
   "attachments": {},
   "cell_type": "markdown",
   "metadata": {},
   "source": [
    "### Deklarasi Fungsi Aktivasi"
   ]
  },
  {
   "cell_type": "code",
   "execution_count": null,
   "metadata": {},
   "outputs": [],
   "source": [
    "# Helper function\n",
    "from math import exp\n",
    "\n",
    "# net -> persamaan linear (ax+b+...)\n",
    "\n",
    "def linear(net):\n",
    "    return net\n",
    "\n",
    "def relu(net):\n",
    "    return max(0, net)\n",
    "\n",
    "def sigmoid(net):\n",
    "    return float(1/(1 + exp(net * -1)))\n",
    "\n",
    "def softmax(net_i, arr_net):\n",
    "    net_sum = 0\n",
    "    for i in arr_net:\n",
    "        net_sum += exp(i)\n",
    "\n",
    "    return float(exp(net_i)/net_sum)"
   ]
  },
  {
   "cell_type": "code",
   "execution_count": null,
   "metadata": {},
   "outputs": [],
   "source": [
    "# Helper function turunan\n",
    "\n",
    "def d_linear(_):\n",
    "    return 1\n",
    "\n",
    "def d_relu(net):\n",
    "    if net > 0:\n",
    "        return 1\n",
    "    return 0\n",
    "    \n",
    "def d_sigmoid(net):\n",
    "    return sigmoid(net) * (1 - sigmoid(net))\n",
    "\n",
    "def d_softmax(net_i, arr_net):\n",
    "    # TODO\n",
    "    pass"
   ]
  },
  {
   "attachments": {},
   "cell_type": "markdown",
   "metadata": {},
   "source": [
    "### Deklarasi Fungsi Pembanding (Menghitung SSE)"
   ]
  },
  {
   "cell_type": "code",
   "execution_count": null,
   "metadata": {},
   "outputs": [],
   "source": [
    "def count_sse(predict_output, expect_output):\n",
    "    sse = 0.0\n",
    "    \n",
    "    # print predict_output\n",
    "    print(\"predict = [\", end = \"\")\n",
    "    for i in range(len(expect_output)):\n",
    "        print(predict_output[i], end=\"\")\n",
    "        if(i < len(expect_output) - 1):\n",
    "            print(\",\", end = \" \")\n",
    "    print(\"]\")\n",
    "\n",
    "    # print expect_output\n",
    "    print(f\"expect = {expect_output}\")\n",
    "\n",
    "    for i in range(len(expect_output)):\n",
    "        sse += (expect_output[i] - predict_output[i]) ** 2\n",
    "    return sse"
   ]
  },
  {
   "attachments": {},
   "cell_type": "markdown",
   "metadata": {},
   "source": [
    "### Load dari file teks"
   ]
  },
  {
   "cell_type": "code",
   "execution_count": null,
   "metadata": {},
   "outputs": [],
   "source": [
    "import json\n",
    "\n",
    "def load_file(filename):\n",
    "    f = open(filename)\n",
    "\n",
    "    data = json.load(f)\n",
    "\n",
    "    # get model\n",
    "    model = data[\"case\"][\"model\"]\n",
    "\n",
    "    # get input data\n",
    "    arr_input = data[\"case\"][\"input\"]\n",
    "\n",
    "    # get weights data\n",
    "    arr_weight = data[\"case\"][\"weights\"]\n",
    "\n",
    "    expect_output = data[\"expect\"][\"output\"]\n",
    "    expect_max_sse = data[\"expect\"][\"max_sse\"]\n",
    "\n",
    "    # create object case\n",
    "    case = Case(model, arr_input, arr_weight)\n",
    "    expect = Expect(expect_output, expect_max_sse)\n",
    "\n",
    "    f.close()\n",
    "\n",
    "    return case, expect"
   ]
  },
  {
   "cell_type": "markdown",
   "metadata": {
    "collapsed": false
   },
   "source": [
    "## 1. Implementasi backpropagation dengan mini-batch gradient descent"
   ]
  },
  {
   "cell_type": "code",
   "execution_count": null,
   "metadata": {
    "ExecuteTime": {
     "end_time": "2023-04-09T22:19:58.995854Z",
     "start_time": "2023-04-09T22:19:58.959653Z"
    },
    "collapsed": true
   },
   "outputs": [],
   "source": []
  },
  {
   "cell_type": "markdown",
   "metadata": {
    "collapsed": false
   },
   "source": [
    "## 2. Implementasi Penyimpanan Model"
   ]
  },
  {
   "cell_type": "markdown",
   "metadata": {
    "collapsed": false
   },
   "source": [
    "## 3. Pengujian Model"
   ]
  }
 ],
 "metadata": {
  "kernelspec": {
   "display_name": "Python 3",
   "language": "python",
   "name": "python3"
  },
  "language_info": {
   "codemirror_mode": {
    "name": "ipython",
    "version": 2
   },
   "file_extension": ".py",
   "mimetype": "text/x-python",
   "name": "python",
   "nbconvert_exporter": "python",
   "pygments_lexer": "ipython2",
   "version": "2.7.6"
  }
 },
 "nbformat": 4,
 "nbformat_minor": 0
}
