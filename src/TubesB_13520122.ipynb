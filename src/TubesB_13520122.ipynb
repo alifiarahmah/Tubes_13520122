{
 "cells": [
  {
   "cell_type": "markdown",
   "metadata": {
    "collapsed": false
   },
   "source": [
    "# Tugas Besar IF3270 Pembelajaran Mesin\n",
    "## Bagian B: Implementasi Mini-batch Gradient Descent\n",
    "\n",
    "Anggota kelompok:\n",
    "\n",
    "1. Christine Hutabarat (13520005)\n",
    "2. Hana Fathiyah (13520047)\n",
    "3. Yohana Golkaria Nainggolan (13520053)\n",
    "4. Alifia Rahmah (13520122)\n"
   ]
  },
  {
   "attachments": {},
   "cell_type": "markdown",
   "metadata": {},
   "source": [
    "### Deklarasi Kelas"
   ]
  },
  {
   "cell_type": "code",
   "execution_count": null,
   "metadata": {},
   "outputs": [],
   "source": [
    "import networkx as nx\n",
    "import matplotlib.pyplot as plt\n",
    "\n",
    "class Case:\n",
    "    def __init__(self, model, input, weights):\n",
    "      self.model = Model(model[\"input_size\"], model[\"layers\"])\n",
    "      self.input = input\n",
    "      self.weights = weights\n",
    "\n",
    "        # mengembalikan informasi array bobot neuron\n",
    "      def get_arr_neurons_weights(weights):\n",
    "        arr_neurons = []\n",
    "        for i in weights:\n",
    "           arr_neurons.append(i[1:])\n",
    "        return arr_neurons\n",
    "      \n",
    "      self.neuron_weights = get_arr_neurons_weights(self.weights)\n",
    "      \n",
    "      # mengembalikan informasi array bobot bias\n",
    "      def get_arr_bias_weights(weights):\n",
    "        arr_bias = []\n",
    "        for i in weights:\n",
    "           arr_bias.append(i[0])\n",
    "        return arr_bias\n",
    "      \n",
    "      self.bias_weights = get_arr_bias_weights(self.weights)\n",
    "\n",
    "    # menggambar struktur jaringan dengan bobot yang disingkat\n",
    "    def draw_compact_structure(self):\n",
    "        # input layer\n",
    "        print(f'x({self.model.input_size})')\n",
    "        print(' ↓ ')\n",
    "\n",
    "        # hidden layer\n",
    "        for i in range(len(self.model.layers)-1):\n",
    "            print(f'h{i+1}({self.model.layers[i].number_of_neurons})\\t= {self.model.layers[i].activation_function}')\n",
    "            print(' ↓ ')\n",
    "\n",
    "        # output layer\n",
    "        print(f'y({self.model.layers[-1].number_of_neurons})\\t= {self.model.layers[-1].activation_function}')\n",
    "\n",
    "    # menggambar struktur jaringan dengan bobot yang lengkap\n",
    "    def draw_structure(self):\n",
    "        G = nx.Graph()\n",
    "\n",
    "        weight_label = {}\n",
    "\n",
    "        # input layer\n",
    "        for i in range(self.model.input_size + 1): # neuron+bias\n",
    "            G.add_node(f'x{i}', pos=(1, i + 1)) # x1, x2, ...\n",
    "\n",
    "        # hidden layer\n",
    "        if len(self.model.layers) > 1:\n",
    "            for i in range(len(self.model.layers) - 1): # layer+bias\n",
    "                for j in range(self.model.layers[i].number_of_neurons + 1): # neuron+bias\n",
    "                    G.add_node(f'h{i+1}{j}', pos=((i + 2) * 2, j + 1)) # hi0, hi1, .., hij\n",
    "\n",
    "                    if (j > 0): # other than bias\n",
    "                        if (i == 0):\n",
    "                            # first hidden layer\n",
    "                            for k in range(self.model.input_size + 1): # input layer neuron\n",
    "                                G.add_edge(f'x{k}', f'h{i+1}{j}')\n",
    "                                weight_label[(f'x{k}', f'h{i+1}{j}')] = self.weights[i][k][j-1]\n",
    "                        else:\n",
    "                            # previous hidden layer neurons\n",
    "                            for k in range(self.model.layers[i-1].number_of_neurons + 1):\n",
    "                                G.add_edge(f'h{i}{k}', f'h{i+1}{j}')\n",
    "                                weight_label[(f'h{i}{k}', f'h{i+1}{j}')] = self.weights[i][k][j-1]\n",
    "\n",
    "            # output layer\n",
    "            for i in range(self.model.layers[-1].number_of_neurons): # neurons in output layer\n",
    "                G.add_node(f'o{i+1}', pos=((len(self.model.layers) + 1) * 2, i+2))\n",
    "                for j in range(self.model.layers[-1].number_of_neurons + 1):\n",
    "                    G.add_edge(f'h{len(self.model.layers)-1}{j}', f'o{i+1}')\n",
    "                    weight_label[f'h{len(self.model.layers)-1}{j}', f'o{i+1}'] = self.weights[-1][j][i]\n",
    "\n",
    "        else: # only input-output layer\n",
    "            for i in range(self.model.layers[-1].number_of_neurons):\n",
    "                G.add_node(f'o{i+1}', pos=((len(self.model.layers) + 1) * 2, i+2))\n",
    "                for j in range(self.model.input_size + 1):\n",
    "                    G.add_edge(f'x{j}', f'o{i+1}')\n",
    "                    weight_label[f'x{j}', f'o{i+1}'] = self.weights[-1][j][i]\n",
    "\n",
    "        pos = nx.get_node_attributes(G, 'pos')\n",
    "        fig, ax = plt.subplots()\n",
    "        nx.draw_networkx_nodes(G, pos, ax=ax, node_size=1000)\n",
    "        nx.draw_networkx_edges(G, pos, ax=ax)\n",
    "        labels = {n: n for n in G.nodes()}\n",
    "        nx.draw_networkx_labels(G, pos, labels, font_color='white', ax=ax)\n",
    "        nx.draw_networkx_edge_labels(G, pos, weight_label, ax=ax)\n",
    "        ax.set_xticks([])\n",
    "        ax.set_yticks([])\n",
    "\n",
    "        self.print_weight_labels(weight_label)\n",
    "\n",
    "        plt.show()\n",
    "\n",
    "    # menampilkan bobot setiap neuron\n",
    "    def print_weight_labels(self, weight_label):\n",
    "        print(\"Daftar bobot:\")\n",
    "\n",
    "        # filter input weights\n",
    "        x = dict(filter(lambda w: 'x' in w[0][0], weight_label.items()))\n",
    "        for i in sorted(x.items()):\n",
    "            print(i[0], '→', i[1])\n",
    "\n",
    "        # the rest\n",
    "        h = dict(filter(lambda w: 'h' in w[0][0], weight_label.items()))\n",
    "        for i in sorted(h.items()):\n",
    "            print(i[0], '→', i[1])\n",
    "\n",
    "class Model:\n",
    "    def __init__(self, input_size, layers):\n",
    "        self.input_size = input_size\n",
    "\n",
    "        # membuat array dari layer\n",
    "        def create_array_layer(layers):\n",
    "            arr_layers = []\n",
    "            for i in range(len(layers)):\n",
    "                arr_layers.append(Layers(layers[i][\"number_of_neurons\"], layers[i][\"activation_function\"]))\n",
    "            return arr_layers\n",
    "\n",
    "        self.layers = create_array_layer(layers)\n",
    "        self.cnt_layers = len(self.layers)\n",
    "\n",
    "class Layers:\n",
    "    def __init__ (self, number_of_neurons, activation_function):\n",
    "        self.number_of_neurons = number_of_neurons\n",
    "        self.activation_function = activation_function\n",
    "\n",
    "    # menampilkan informasi layer\n",
    "    def __str__ (self):\n",
    "        return f'number of neurons: {self.number_of_neurons}\\nactivation_function: {self.activation_function}\\n'\n",
    "\n",
    "class Expect:\n",
    "    def __init__ (self, output, max_sse):\n",
    "        self.output = output\n",
    "        self.max_sse = max_sse"
   ]
  },
  {
   "attachments": {},
   "cell_type": "markdown",
   "metadata": {},
   "source": [
    "### Deklarasi Fungsi Aktivasi"
   ]
  },
  {
   "cell_type": "code",
   "execution_count": null,
   "metadata": {},
   "outputs": [],
   "source": [
    "# Helper function\n",
    "from math import exp\n",
    "\n",
    "# net -> persamaan linear (ax+b+...)\n",
    "\n",
    "def linear(net):\n",
    "    return net\n",
    "\n",
    "def relu(net):\n",
    "    return max(0, net)\n",
    "\n",
    "def sigmoid(net):\n",
    "    return float(1/(1 + exp(net * -1)))\n",
    "\n",
    "def softmax(net_i, arr_net):\n",
    "    net_sum = 0\n",
    "    for i in arr_net:\n",
    "        net_sum += exp(i)\n",
    "\n",
    "    return float(exp(net_i)/net_sum)"
   ]
  },
  {
   "cell_type": "code",
   "execution_count": null,
   "metadata": {},
   "outputs": [],
   "source": [
    "# Helper function turunan\n",
    "\n",
    "def d_linear(_):\n",
    "    return 1\n",
    "\n",
    "def d_relu(net):\n",
    "    if net > 0:\n",
    "        return 1\n",
    "    return 0\n",
    "    \n",
    "def d_sigmoid(net):\n",
    "    return sigmoid(net) * (1 - sigmoid(net))\n",
    "\n",
    "def d_softmax(net_i, arr_net):\n",
    "    # TODO\n",
    "    pass"
   ]
  },
  {
   "attachments": {},
   "cell_type": "markdown",
   "metadata": {},
   "source": [
    "### Deklarasi Fungsi Pembanding (Menghitung SSE)"
   ]
  },
  {
   "cell_type": "code",
   "execution_count": null,
   "metadata": {},
   "outputs": [],
   "source": [
    "def count_sse(predict_output, expect_output):\n",
    "    sse = 0.0\n",
    "    \n",
    "    # print predict_output\n",
    "    print(\"predict = [\", end = \"\")\n",
    "    for i in range(len(expect_output)):\n",
    "        print(predict_output[i], end=\"\")\n",
    "        if(i < len(expect_output) - 1):\n",
    "            print(\",\", end = \" \")\n",
    "    print(\"]\")\n",
    "\n",
    "    # print expect_output\n",
    "    print(f\"expect = {expect_output}\")\n",
    "\n",
    "    for i in range(len(expect_output)):\n",
    "        sse += (expect_output[i] - predict_output[i]) ** 2\n",
    "    return sse"
   ]
  },
  {
   "attachments": {},
   "cell_type": "markdown",
   "metadata": {},
   "source": [
    "### Load dari file teks"
   ]
  },
  {
   "cell_type": "code",
   "execution_count": null,
   "metadata": {},
   "outputs": [],
   "source": [
    "import json\n",
    "\n",
    "def load_file(filename):\n",
    "    f = open(filename)\n",
    "\n",
    "    data = json.load(f)\n",
    "\n",
    "    # get model\n",
    "    model = data[\"case\"][\"model\"]\n",
    "\n",
    "    # get input data\n",
    "    arr_input = data[\"case\"][\"input\"]\n",
    "\n",
    "    # get weights data\n",
    "    arr_weight = data[\"case\"][\"weights\"]\n",
    "\n",
    "    expect_output = data[\"expect\"][\"output\"]\n",
    "    expect_max_sse = data[\"expect\"][\"max_sse\"]\n",
    "\n",
    "    # create object case\n",
    "    case = Case(model, arr_input, arr_weight)\n",
    "    expect = Expect(expect_output, expect_max_sse)\n",
    "\n",
    "    f.close()\n",
    "\n",
    "    return case, expect"
   ]
  },
  {
   "cell_type": "markdown",
   "metadata": {
    "collapsed": false
   },
   "source": [
    "## 1. Implementasi backpropagation dengan mini-batch gradient descent"
   ]
  },
  {
   "cell_type": "code",
   "execution_count": null,
   "metadata": {
    "ExecuteTime": {
     "end_time": "2023-04-09T22:19:58.995854Z",
     "start_time": "2023-04-09T22:19:58.959653Z"
    },
    "collapsed": true
   },
   "outputs": [],
   "source": []
  },
  {
   "cell_type": "markdown",
   "metadata": {
    "collapsed": false
   },
   "source": [
    "## 2. Implementasi Penyimpanan Model"
   ]
  },
  {
   "cell_type": "markdown",
   "metadata": {
    "collapsed": false
   },
   "source": [
    "## 3. Pengujian Model"
   ]
  }
 ],
 "metadata": {
  "kernelspec": {
   "display_name": "Python 3",
   "language": "python",
   "name": "python3"
  },
  "language_info": {
   "codemirror_mode": {
    "name": "ipython",
    "version": 2
   },
   "file_extension": ".py",
   "mimetype": "text/x-python",
   "name": "python",
   "nbconvert_exporter": "python",
   "pygments_lexer": "ipython2",
   "version": "2.7.6"
  }
 },
 "nbformat": 4,
 "nbformat_minor": 0
}
