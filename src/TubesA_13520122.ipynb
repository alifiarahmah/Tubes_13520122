{
 "cells": [
  {
   "cell_type": "markdown",
   "metadata": {
    "id": "149jvg2_f_WJ"
   },
   "source": [
    "# Tugas Besar IF3270 Pembelajaran Mesin\n",
    "## Bagian A: Implementasi Forward Propagation untuk Feed Forward Neural Network\n",
    "\n",
    "Anggota kelompok:\n",
    "\n",
    "1. Christine Hutabarat (13520005)\n",
    "2. Hana Fathiyah (13520047)\n",
    "3. Yohana Golkaria Nainggolan (13520053)\n",
    "4. Alifia Rahmah (13520122)\n",
    "\n"
   ]
  },
  {
   "cell_type": "markdown",
   "metadata": {
    "id": "fCnZdnv7gaQw"
   },
   "source": [
    "## 1. Perancangan struktur file eksternal untuk penyimpanan model"
   ]
  },
  {
   "attachments": {},
   "cell_type": "markdown",
   "metadata": {
    "id": "aizwkGcoODif"
   },
   "source": [
    "### Deklarasi Kelas"
   ]
  },
  {
   "cell_type": "code",
   "execution_count": 963,
   "metadata": {
    "ExecuteTime": {
     "start_time": "2023-04-07T17:05:38.345907Z",
     "end_time": "2023-04-07T17:05:38.345907Z"
    },
    "colab": {
     "base_uri": "https://localhost:8080/"
    },
    "id": "SnGWEcECOGKy",
    "outputId": "e0264d37-8dc0-4c1a-dbdd-afa3dc8a38a8"
   },
   "outputs": [],
   "source": [
    "import networkx as nx\n",
    "import matplotlib.pyplot as plt\n",
    "\n",
    "class Case:\n",
    "    def __init__(self, model, input, weights):\n",
    "      self.model = Model(model[\"input_size\"], model[\"layers\"])\n",
    "      self.input = input\n",
    "      self.weights = weights\n",
    "\n",
    "      def get_arr_neurons_weights(weights):\n",
    "        arr_neurons = []\n",
    "        for i in weights:\n",
    "           arr_neurons.append(i[1:])\n",
    "        return arr_neurons\n",
    "      \n",
    "      self.neuron_weights = get_arr_neurons_weights(self.weights)\n",
    "      \n",
    "      def get_arr_bias_weights(weights):\n",
    "        arr_bias = []\n",
    "        for i in weights:\n",
    "           arr_bias.append(i[0])\n",
    "        return arr_bias\n",
    "      \n",
    "      self.bias_weights = get_arr_bias_weights(self.weights)\n",
    "\n",
    "class Model:\n",
    "    def __init__(self, input_size, layers):\n",
    "        self.input_size = input_size\n",
    "\n",
    "        def create_array_layer(layers):\n",
    "            arr_layers = []\n",
    "            for i in range(len(layers)):\n",
    "                arr_layers.append(Layers(layers[i][\"number_of_neurons\"], layers[i][\"activation_function\"]))\n",
    "            return arr_layers\n",
    "\n",
    "        self.layers = create_array_layer(layers)\n",
    "        self.cnt_layers = len(self.layers)\n",
    "\n",
    "    def draw_compact_structure(self):\n",
    "        # input layer\n",
    "        print(f'x({self.input_size})')\n",
    "        print(' ↓ ')\n",
    "\n",
    "        # hidden layer\n",
    "        for i in range(len(self.layers)-1):\n",
    "            print(f'h{i+1}({self.layers[i].number_of_neurons})\\t= {self.layers[i].activation_function}')\n",
    "            print(' ↓ ')\n",
    "\n",
    "        # output layer\n",
    "        print(f'y({self.layers[-1].number_of_neurons})\\t= {self.layers[-1].activation_function}')\n",
    "\n",
    "    def draw_structure(self, weights=None):\n",
    "        G = nx.Graph()\n",
    "\n",
    "        weight_label = {}\n",
    "\n",
    "        # input layer\n",
    "        for i in range(self.input_size + 1): # neuron+bias\n",
    "            G.add_node(f'x{i}', pos=(1, i + 1)) # x1, x2, ...\n",
    "\n",
    "        # hidden layer\n",
    "        for i in range(len(self.layers) - 1): # layer+bias\n",
    "            for j in range(self.layers[i].number_of_neurons + 1): # neuron+bias\n",
    "                G.add_node(f'h{i+1}{j}', pos=((i + 2) * 2, j + 1)) # hi0, hi1, .., hij\n",
    "\n",
    "                if (j > 0): # other than bias\n",
    "                    if (i == 0):\n",
    "                        # first hidden layer\n",
    "                        for k in range(self.input_size + 1): # input layer neuron\n",
    "                            G.add_edge(f'x{k}', f'h{i+1}{j}')\n",
    "                            weight_label[(f'x{k}', f'h{i+1}{j}')] = weights[i][k][j-1]\n",
    "                    else:\n",
    "                        # previous hidden layer neurons\n",
    "                         for k in range(self.layers[i-1].number_of_neurons + 1):\n",
    "                            G.add_edge(f'h{i}{k}', f'h{i+1}{j}')\n",
    "                            weight_label[(f'h{i}{k}', f'h{i+1}{j}')] = weights[i][k][j-1]\n",
    "                \n",
    "        # output layer\n",
    "        for i in range(self.layers[-1].number_of_neurons): # neurons in last hidden layer\n",
    "            G.add_node(f'o{i+1}', pos=((len(self.layers) + 1) * 2, i+2))\n",
    "            for j in range(self.layers[-1].number_of_neurons + 1):\n",
    "                G.add_edge(f'h{len(self.layers)-1}{j}', f'o{i+1}')\n",
    "                weight_label[f'h{len(self.layers)-1}{j}', f'o{i+1}'] = weights[-1][j][i]\n",
    "                \n",
    "        pos = nx.get_node_attributes(G, 'pos')\n",
    "        fig, ax = plt.subplots()\n",
    "        nx.draw_networkx_nodes(G, pos, ax=ax, node_size=1000)\n",
    "        nx.draw_networkx_edges(G, pos, ax=ax)\n",
    "        labels = {n: n for n in G.nodes()}\n",
    "        nx.draw_networkx_labels(G, pos, labels, font_color='white', ax=ax)\n",
    "        nx.draw_networkx_edge_labels(G, pos, weight_label, ax=ax)\n",
    "        ax.set_xticks([])\n",
    "        ax.set_yticks([])\n",
    "\n",
    "        # TODO: find better way\n",
    "        print(\"Daftar bobot:\")\n",
    "        print(weight_label)\n",
    "\n",
    "        plt.show()\n",
    "\n",
    "\n",
    "class Layers:\n",
    "    def __init__ (self, number_of_neurons, activation_function):\n",
    "        self.number_of_neurons = number_of_neurons\n",
    "        self.activation_function = activation_function\n",
    "\n",
    "    def __str__ (self):\n",
    "        return f'number of neurons: {self.number_of_neurons}\\nactivation_function: {self.activation_function}\\n'\n",
    "\n",
    "class Expect:\n",
    "    def __init__ (self, output, max_sse):\n",
    "        self.output = output\n",
    "        self.max_sse = max_sse"
   ]
  },
  {
   "attachments": {},
   "cell_type": "markdown",
   "metadata": {},
   "source": [
    "### Deklarasi Fungsi Aktivasi"
   ]
  },
  {
   "cell_type": "code",
   "execution_count": 964,
   "metadata": {
    "ExecuteTime": {
     "start_time": "2023-04-07T17:05:38.347906Z",
     "end_time": "2023-04-07T17:05:38.347906Z"
    }
   },
   "outputs": [],
   "source": [
    "# Helper function\n",
    "from math import exp\n",
    "\n",
    "# net -> persamaan linear (ax+b+...)\n",
    "\n",
    "def linear(net):\n",
    "    return net\n",
    "\n",
    "def relu(net):\n",
    "    return max(0, net)\n",
    "\n",
    "def sigmoid(net):\n",
    "    return float(1/(1 + exp(net * -1)))\n",
    "\n",
    "def softmax(net_i, arr_net):\n",
    "    net_sum = 0\n",
    "    for i in arr_net:\n",
    "        net_sum += exp(i)\n",
    "\n",
    "    return float(exp(net_i)/net_sum)"
   ]
  },
  {
   "attachments": {},
   "cell_type": "markdown",
   "metadata": {},
   "source": [
    "### Deklarasi Fungsi Pembanding (Menghitung SSE)\n"
   ]
  },
  {
   "cell_type": "code",
   "execution_count": 965,
   "metadata": {
    "ExecuteTime": {
     "start_time": "2023-04-07T17:05:38.349853Z",
     "end_time": "2023-04-07T17:05:38.349853Z"
    }
   },
   "outputs": [],
   "source": [
    "def count_sse(predict_output, expect_output):\n",
    "    sse = 0.0\n",
    "    \n",
    "    # print predict_output\n",
    "    print(\"predict = [\", end = \"\")\n",
    "    for i in range(len(expect_output)):\n",
    "        print(predict_output[i], end=\"\")\n",
    "        if(i < len(expect_output) - 1):\n",
    "            print(\",\", end = \" \")\n",
    "    print(\"]\")\n",
    "\n",
    "    # print expect_output\n",
    "    print(f\"expect = {expect_output}\")\n",
    "\n",
    "    for i in range(len(expect_output)):\n",
    "        sse += (expect_output[i] - predict_output[i]) ** 2\n",
    "    return sse"
   ]
  },
  {
   "cell_type": "markdown",
   "metadata": {
    "collapsed": false
   },
   "source": [
    "## 2. Implementasi load dari file teks"
   ]
  },
  {
   "cell_type": "code",
   "execution_count": 966,
   "metadata": {
    "ExecuteTime": {
     "start_time": "2023-04-07T17:05:38.373850Z",
     "end_time": "2023-04-07T17:05:38.373850Z"
    },
    "collapsed": false
   },
   "outputs": [],
   "source": [
    "import json\n",
    "\n",
    "def load_file(filename):\n",
    "    f = open(filename)\n",
    "\n",
    "    data = json.load(f)\n",
    "\n",
    "    # get model\n",
    "    model = data[\"case\"][\"model\"]\n",
    "\n",
    "    # get input data\n",
    "    arr_input = data[\"case\"][\"input\"]\n",
    "\n",
    "    # get weights data\n",
    "    arr_weight = data[\"case\"][\"weights\"]\n",
    "\n",
    "    expect_output = data[\"expect\"][\"output\"]\n",
    "    expect_max_sse = data[\"expect\"][\"max_sse\"]\n",
    "\n",
    "    # create object case\n",
    "    case = Case(model, arr_input, arr_weight)\n",
    "    expect = Expect(expect_output, expect_max_sse)\n",
    "\n",
    "    f.close()\n",
    "\n",
    "    return case, expect"
   ]
  },
  {
   "cell_type": "markdown",
   "metadata": {
    "collapsed": false
   },
   "source": [
    "## 3. Implementasi forward propagation"
   ]
  },
  {
   "cell_type": "code",
   "execution_count": 967,
   "metadata": {
    "ExecuteTime": {
     "start_time": "2023-04-07T17:05:38.409748Z",
     "end_time": "2023-04-07T17:05:38.409748Z"
    },
    "collapsed": false
   },
   "outputs": [],
   "source": [
    "import numpy as np\n",
    "\n",
    "def forward_propagation(case):\n",
    "    # create array of output\n",
    "    output = []\n",
    "\n",
    "    # print count input\n",
    "    print(f'{len(case.input)} Input')\n",
    "\n",
    "    # loop for every input\n",
    "    for i in range(len(case.input)):\n",
    "        print(\"************************************\")\n",
    "        current_data = [case.input[i]]\n",
    "\n",
    "        # print input idx\n",
    "        print(f\"input ke-{i+1}\")\n",
    "\n",
    "        # print input layer\n",
    "        print(f\"input layer has {len(case.input[i])} neurons\")\n",
    "\n",
    "        # print neurons\n",
    "        print(f\"input neurons:\")\n",
    "        print('x0 (bias) = 1')\n",
    "        for j in range(len(case.input[i])):\n",
    "            print(f'x{j+1} = {case.input[i][j]}')\n",
    "\n",
    "        print(\"==================================\")\n",
    "\n",
    "        # print count of Hidden Layer\n",
    "        print(f\"{case.model.cnt_layers - 1} Hidden layer\")\n",
    "\n",
    "        # loop for every layer\n",
    "        for j in range(case.model.cnt_layers):\n",
    "\n",
    "            kombinasilinear = np.dot(current_data, case.neuron_weights[j]) + case.bias_weights[j]\n",
    "            current_data = kombinasilinear\n",
    "\n",
    "            current_data_cpy = current_data.copy()\n",
    "\n",
    "            if( j == case.model.cnt_layers - 1):\n",
    "                # print output layer\n",
    "                print(\"==================================\")\n",
    "                print(\"Output layer\")\n",
    "\n",
    "            if (j < case.model.cnt_layers - 1):\n",
    "                # print hidden layer\n",
    "                print('----------------------------------')\n",
    "                print(f\"Hidden layer ke-{j+1}: {len(current_data[0])} neurons\")\n",
    "            else:\n",
    "                # print output layer\n",
    "                print(f\"Output layer has {len(current_data[0])} neurons\")\n",
    "\n",
    "            # print bias\n",
    "            if (j < case.model.cnt_layers - 1):\n",
    "                print(f\"n{j+1}0 (bias) = 1\")\n",
    "\n",
    "            # loop for every neuron\n",
    "            for k in range(len(current_data[0])):\n",
    "\n",
    "                if (case.model.layers[j].activation_function == \"linear\"):\n",
    "                    current_data[0][k] = linear(current_data[0][k])\n",
    "                if (case.model.layers[j].activation_function == \"relu\"):\n",
    "                    current_data[0][k] = relu(current_data[0][k])\n",
    "                if (case.model.layers[j].activation_function == \"sigmoid\"):\n",
    "                    current_data[0][k] = sigmoid(current_data[0][k])\n",
    "                if (case.model.layers[j].activation_function == \"softmax\"):\n",
    "                    current_data[0][k] = softmax(\n",
    "                        current_data_cpy[0][k], current_data_cpy[0])\n",
    "\n",
    "                if (j < case.model.cnt_layers - 1):\n",
    "                    # neuron in hidden layer\n",
    "                    print(f\"n{j+1}{k+1} = {current_data[0][k]}\")\n",
    "                else:\n",
    "                    # neuron in output layer\n",
    "                    print(f\"o{j+1}{k+1} = {current_data[0][k]}\")\n",
    "\n",
    "        output.append(current_data)\n",
    "        print(\"************************************\")\n",
    "    return output"
   ]
  },
  {
   "cell_type": "markdown",
   "metadata": {
    "collapsed": false
   },
   "source": [
    "### a. Menampilkan struktur jaringan"
   ]
  },
  {
   "cell_type": "code",
   "execution_count": 968,
   "metadata": {
    "ExecuteTime": {
     "start_time": "2023-04-07T17:05:38.420695Z",
     "end_time": "2023-04-07T17:05:38.420695Z"
    },
    "collapsed": false
   },
   "outputs": [],
   "source": [
    "# TODO: add model.draw_compact_structure() implementation here after implement read file above"
   ]
  },
  {
   "cell_type": "code",
   "execution_count": 969,
   "metadata": {
    "ExecuteTime": {
     "start_time": "2023-04-07T17:05:38.420695Z",
     "end_time": "2023-04-07T17:05:38.420695Z"
    },
    "collapsed": false
   },
   "outputs": [],
   "source": [
    "# TODO: add model.draw_structure() implementation here after implement read file above"
   ]
  },
  {
   "cell_type": "markdown",
   "metadata": {
    "id": "F9dJf0RzsCZe"
   },
   "source": [
    "### b. Memprediksi output untuk input 1 instance"
   ]
  },
  {
   "cell_type": "code",
   "execution_count": 970,
   "metadata": {
    "ExecuteTime": {
     "start_time": "2023-04-07T17:05:38.422690Z",
     "end_time": "2023-04-07T17:05:38.422690Z"
    }
   },
   "outputs": [],
   "source": [
    "case_one_instance_data = {\n",
    "        \"model\": {\n",
    "            \"input_size\": 3,\n",
    "            \"layers\": [\n",
    "                {\n",
    "                    \"number_of_neurons\": 4,\n",
    "                    \"activation_function\": \"relu\"\n",
    "                },\n",
    "                {\n",
    "                    \"number_of_neurons\": 3,\n",
    "                    \"activation_function\": \"sigmoid\"\n",
    "                },\n",
    "                {\n",
    "                    \"number_of_neurons\": 2,\n",
    "                    \"activation_function\": \"softmax\"\n",
    "                },\n",
    "                {\n",
    "                    \"number_of_neurons\": 2,\n",
    "                    \"activation_function\": \"linear\"\n",
    "                }\n",
    "            ]\n",
    "        },\n",
    "        \"input\": [\n",
    "            [\n",
    "                7.0,\n",
    "                2.4,\n",
    "                3.6\n",
    "            ]\n",
    "        ],\n",
    "        \"weights\": [\n",
    "            [\n",
    "                [\n",
    "                    0.6,\n",
    "                    0.2,\n",
    "                    1.8,\n",
    "                    2.5\n",
    "                ],\n",
    "                [\n",
    "                    2.5,\n",
    "                    1.2,\n",
    "                    -0.3,\n",
    "                    1.4\n",
    "                ],\n",
    "                [\n",
    "                    0.6,\n",
    "                    -0.3,\n",
    "                    0.7,\n",
    "                    1.2\n",
    "                ],\n",
    "                [\n",
    "                    2.2,\n",
    "                    -1.3,\n",
    "                    0.6,\n",
    "                    1.4\n",
    "                ]\n",
    "            ],\n",
    "            [\n",
    "                [\n",
    "                    1.4,\n",
    "                    4.5,\n",
    "                    2.4\n",
    "                ],\n",
    "                [\n",
    "                    2.6,\n",
    "                    1.2,\n",
    "                    1.3\n",
    "                ],\n",
    "                [\n",
    "                    1.1,\n",
    "                    1.4,\n",
    "                    -0.5\n",
    "                ],\n",
    "                [\n",
    "                    0.1,\n",
    "                    -0.4,\n",
    "                    1.2\n",
    "                ],\n",
    "                [\n",
    "                    2.4,\n",
    "                    -1.6,\n",
    "                    0.4\n",
    "                ]\n",
    "            ], \n",
    "            [\n",
    "                [\n",
    "                    0.7,\n",
    "                    1.3\n",
    "                ],\n",
    "                [\n",
    "                    0.5,\n",
    "                    1.2\n",
    "                ],\n",
    "                                [\n",
    "                    1.3,\n",
    "                    -0.5\n",
    "                ],\n",
    "                [\n",
    "                    2.2,\n",
    "                    0.2\n",
    "                ]\n",
    "            ],\n",
    "            [\n",
    "                [\n",
    "                    0.8,\n",
    "                    1.3\n",
    "                ],\n",
    "                [\n",
    "                    2.2,\n",
    "                    -2.1\n",
    "                ],\n",
    "                [\n",
    "                    -0.8,\n",
    "                    1.7\n",
    "                ]\n",
    "            ]\n",
    "        ]\n",
    "    }"
   ]
  },
  {
   "cell_type": "code",
   "execution_count": 971,
   "metadata": {
    "ExecuteTime": {
     "start_time": "2023-04-07T17:05:38.423692Z",
     "end_time": "2023-04-07T17:05:38.423692Z"
    }
   },
   "outputs": [],
   "source": [
    "# get model\n",
    "model_one_instance = case_one_instance_data[\"model\"]\n",
    "\n",
    "# get input data\n",
    "arr_input_one_instance = case_one_instance_data[\"input\"]\n",
    "\n",
    "# get weights data\n",
    "arr_weight_one_instance = case_one_instance_data[\"weights\"]\n",
    "\n",
    "# create object case\n",
    "case_one_instance = Case(model_one_instance, arr_input_one_instance, arr_weight_one_instance)"
   ]
  },
  {
   "cell_type": "code",
   "execution_count": 972,
   "metadata": {
    "ExecuteTime": {
     "start_time": "2023-04-07T17:05:38.437683Z",
     "end_time": "2023-04-07T17:05:38.437683Z"
    },
    "collapsed": false
   },
   "outputs": [
    {
     "name": "stdout",
     "output_type": "stream",
     "text": [
      "x(3)\n",
      " ↓ \n",
      "h1(4)\t= relu\n",
      " ↓ \n",
      "h2(3)\t= sigmoid\n",
      " ↓ \n",
      "h3(2)\t= softmax\n",
      " ↓ \n",
      "y(2)\t= linear\n"
     ]
    }
   ],
   "source": [
    "# TODO: move to menampilkan struktur jaringan\n",
    "case_one_instance.model.draw_compact_structure()"
   ]
  },
  {
   "cell_type": "code",
   "execution_count": 973,
   "metadata": {
    "ExecuteTime": {
     "start_time": "2023-04-07T17:05:38.442685Z",
     "end_time": "2023-04-07T17:05:38.443685Z"
    },
    "collapsed": false
   },
   "outputs": [
    {
     "name": "stdout",
     "output_type": "stream",
     "text": [
      "Daftar bobot:\n",
      "{('x0', 'h11'): 0.6, ('x1', 'h11'): 2.5, ('x2', 'h11'): 0.6, ('x3', 'h11'): 2.2, ('x0', 'h12'): 0.2, ('x1', 'h12'): 1.2, ('x2', 'h12'): -0.3, ('x3', 'h12'): -1.3, ('x0', 'h13'): 1.8, ('x1', 'h13'): -0.3, ('x2', 'h13'): 0.7, ('x3', 'h13'): 0.6, ('x0', 'h14'): 2.5, ('x1', 'h14'): 1.4, ('x2', 'h14'): 1.2, ('x3', 'h14'): 1.4, ('h10', 'h21'): 1.4, ('h11', 'h21'): 2.6, ('h12', 'h21'): 1.1, ('h13', 'h21'): 0.1, ('h14', 'h21'): 2.4, ('h10', 'h22'): 4.5, ('h11', 'h22'): 1.2, ('h12', 'h22'): 1.4, ('h13', 'h22'): -0.4, ('h14', 'h22'): -1.6, ('h10', 'h23'): 2.4, ('h11', 'h23'): 1.3, ('h12', 'h23'): -0.5, ('h13', 'h23'): 1.2, ('h14', 'h23'): 0.4, ('h20', 'h31'): 0.7, ('h21', 'h31'): 0.5, ('h22', 'h31'): 1.3, ('h23', 'h31'): 2.2, ('h20', 'h32'): 1.3, ('h21', 'h32'): 1.2, ('h22', 'h32'): -0.5, ('h23', 'h32'): 0.2, ('h30', 'o1'): 0.8, ('h31', 'o1'): 2.2, ('h32', 'o1'): -0.8, ('h30', 'o2'): 1.3, ('h31', 'o2'): -2.1, ('h32', 'o2'): 1.7}\n"
     ]
    },
    {
     "data": {
      "text/plain": "<Figure size 432x288 with 1 Axes>",
      "image/png": "[encoded data removed]"
     },
     "metadata": {},
     "output_type": "display_data"
    }
   ],
   "source": [
    "# TODO: move to menampilkan struktur jaringan\n",
    "case_one_instance.model.draw_structure(arr_weight_one_instance)"
   ]
  },
  {
   "cell_type": "code",
   "execution_count": null,
   "metadata": {
    "ExecuteTime": {
     "start_time": "2023-04-07T17:04:46.538821Z",
     "end_time": "2023-04-07T17:04:46.538821Z"
    }
   },
   "outputs": [],
   "source": [
    "output = forward_propagation(case_one_instance)\n",
    "print(output)"
   ]
  },
  {
   "attachments": {},
   "cell_type": "markdown",
   "metadata": {
    "id": "cpvGLnizsFy2"
   },
   "source": [
    "### c. Memprediksi output untuk input sejumlah instance"
   ]
  },
  {
   "cell_type": "code",
   "execution_count": null,
   "outputs": [],
   "source": [],
   "metadata": {
    "collapsed": false,
    "ExecuteTime": {
     "start_time": "2023-04-07T17:04:46.538821Z",
     "end_time": "2023-04-07T17:04:46.538821Z"
    }
   }
  },
  {
   "cell_type": "markdown",
   "metadata": {
    "id": "wxk-phT5gxDR"
   },
   "source": [
    "## 4. Pengujian kebenaran fungsional"
   ]
  },
  {
   "attachments": {},
   "cell_type": "markdown",
   "metadata": {},
   "source": [
    "### a. Memprediksi kasus dengan test case linear.json\n"
   ]
  },
  {
   "cell_type": "markdown",
   "source": [
    "Menggunakan model yang sudah dibuat:"
   ],
   "metadata": {
    "collapsed": false
   }
  },
  {
   "cell_type": "code",
   "execution_count": null,
   "metadata": {
    "ExecuteTime": {
     "start_time": "2023-04-07T17:04:46.817681Z",
     "end_time": "2023-04-07T17:04:46.818721Z"
    }
   },
   "outputs": [],
   "source": [
    "case_linear = load_file(\"linear.json\")[0]\n",
    "output_linear = forward_propagation(case_linear)\n",
    "\n",
    "expect_linear = load_file(\"linear.json\")[1]\n",
    "\n",
    "print(\"Menghitung Nilai SSE\")\n",
    "\n",
    "for i in range(len(case_linear.input)):\n",
    "    print('----------------------------------')\n",
    "    print(f\"input ke-{i+1}\")\n",
    "    sse = count_sse(output_linear[i][0], expect_linear.output[i])\n",
    "    print(f\"SSE untuk input ke-{i+1} =\", sse, end = \"\")\n",
    "    if (sse < expect_linear.max_sse):\n",
    "        print(\" => Result: True\")\n",
    "    else:\n",
    "        print(\" => Result: False\")"
   ]
  },
  {
   "attachments": {},
   "cell_type": "markdown",
   "metadata": {},
   "source": [
    "### b. Memprediksi kasus dengan test case relu.json\n"
   ]
  },
  {
   "cell_type": "code",
   "execution_count": null,
   "metadata": {
    "ExecuteTime": {
     "start_time": "2023-04-07T17:04:46.818721Z",
     "end_time": "2023-04-07T17:04:46.818721Z"
    }
   },
   "outputs": [],
   "source": [
    "case_relu = load_file(\"relu.json\")[0]\n",
    "output_relu = forward_propagation(case_relu)\n",
    "\n",
    "expect_relu = load_file(\"relu.json\")[1]\n",
    "\n",
    "print(\"Menghitung Nilai SSE\")\n",
    "\n",
    "for i in range(len(case_relu.input)):\n",
    "    print('----------------------------------')\n",
    "    print(f\"input ke-{i+1}\")\n",
    "    sse = count_sse(output_relu[i][0], expect_relu.output[i])\n",
    "    print(f\"SSE untuk input ke-{i+1} =\", sse, end = \"\")\n",
    "    if (sse < expect_relu.max_sse):\n",
    "        print(\" => Result: True\")\n",
    "    else:\n",
    "        print(\" => Result: False\")"
   ]
  },
  {
   "attachments": {},
   "cell_type": "markdown",
   "metadata": {},
   "source": [
    "### c. Memprediksi kasus dengan test case softmax.json"
   ]
  },
  {
   "cell_type": "code",
   "execution_count": null,
   "metadata": {
    "ExecuteTime": {
     "start_time": "2023-04-07T17:04:46.845772Z",
     "end_time": "2023-04-07T17:04:46.845772Z"
    }
   },
   "outputs": [],
   "source": [
    "case_softmax = load_file(\"softmax.json\")[0]\n",
    "output_softmax = forward_propagation(case_softmax)\n",
    "\n",
    "expect_softmax = load_file(\"softmax.json\")[1]\n",
    "\n",
    "print(\"Menghitung Nilai SSE\")\n",
    "\n",
    "for i in range(len(case_softmax.input)):\n",
    "    print('----------------------------------')\n",
    "    print(f\"input ke-{i+1}\")\n",
    "    sse = count_sse(output_softmax[i][0], expect_softmax.output[i])\n",
    "    print(f\"SSE untuk input ke-{i+1} =\", sse, end = \"\")\n",
    "    if (sse < expect_softmax.max_sse):\n",
    "        print(\" => Result: True\")\n",
    "    else:\n",
    "        print(\" => Result: False\")"
   ]
  },
  {
   "attachments": {},
   "cell_type": "markdown",
   "metadata": {},
   "source": [
    "### d. Memprediksi kasus dengan test case sigmoid.json"
   ]
  },
  {
   "cell_type": "code",
   "execution_count": null,
   "metadata": {
    "ExecuteTime": {
     "start_time": "2023-04-07T17:04:46.845772Z",
     "end_time": "2023-04-07T17:04:46.845772Z"
    }
   },
   "outputs": [],
   "source": [
    "case_sigmoid= load_file(\"sigmoid.json\")[0]\n",
    "output_sigmoid = forward_propagation(case_sigmoid)\n",
    "\n",
    "expect_sigmoid = load_file(\"sigmoid.json\")[1]\n",
    "\n",
    "print(\"Menghitung Nilai SSE\")\n",
    "\n",
    "for i in range(len(case_sigmoid.input)):\n",
    "    print('----------------------------------')\n",
    "    print(f\"input ke-{i+1}\")\n",
    "    sse = count_sse(output_sigmoid[i][0], expect_sigmoid.output[i])\n",
    "    print(f\"SSE untuk input ke-{i+1} =\", sse, end = \"\")\n",
    "    if (sse < expect_sigmoid.max_sse):\n",
    "        print(\" => Result: True\")\n",
    "    else:\n",
    "        print(\" => Result: False\")"
   ]
  },
  {
   "attachments": {},
   "cell_type": "markdown",
   "metadata": {},
   "source": [
    "### e. Memprediksi kasus dengan test case multilayer.json"
   ]
  },
  {
   "cell_type": "code",
   "execution_count": null,
   "metadata": {
    "ExecuteTime": {
     "start_time": "2023-04-07T17:04:46.846759Z",
     "end_time": "2023-04-07T17:04:46.846759Z"
    }
   },
   "outputs": [],
   "source": [
    "case_multilayer = load_file(\"multilayer.json\")[0]\n",
    "output_multilayer = forward_propagation(case_multilayer)\n",
    "\n",
    "expect_multilayer = load_file(\"multilayer.json\")[1]\n",
    "\n",
    "print(\"Menghitung Nilai SSE\")\n",
    "\n",
    "for i in range(len(case_multilayer.input)):\n",
    "    print('----------------------------------')\n",
    "    print(f\"input ke-{i+1}\")\n",
    "    sse = count_sse(output_multilayer[i][0], expect_multilayer.output[i])\n",
    "    print(f\"SSE untuk input ke-{i+1} =\", sse, end = \"\")\n",
    "    if (sse < expect_multilayer.max_sse):\n",
    "        print(\" => Result: True\")\n",
    "    else:\n",
    "        print(\" => Result: False\")"
   ]
  }
 ],
 "metadata": {
  "colab": {
   "authorship_tag": "ABX9TyMHPTVh4yCtyRcr4QLDbQOB",
   "include_colab_link": true,
   "provenance": []
  },
  "kernelspec": {
   "display_name": "Python 3 (ipykernel)",
   "language": "python",
   "name": "python3"
  },
  "language_info": {
   "codemirror_mode": {
    "name": "ipython",
    "version": 3
   },
   "file_extension": ".py",
   "mimetype": "text/x-python",
   "name": "python",
   "nbconvert_exporter": "python",
   "pygments_lexer": "ipython3",
   "version": "3.10.4"
  }
 },
 "nbformat": 4,
 "nbformat_minor": 4
}
