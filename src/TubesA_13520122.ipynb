{
 "cells": [
  {
   "cell_type": "markdown",
   "metadata": {
    "id": "149jvg2_f_WJ"
   },
   "source": [
    "# Tugas Besar IF3270 Pembelajaran Mesin\n",
    "## Bagian A: Implementasi Forward Propagation untuk Feed Forward Neural Network\n",
    "\n",
    "Anggota kelompok:\n",
    "\n",
    "1. Christine Hutabarat (13520005)\n",
    "2. Hana Fathiyah (13520047)\n",
    "3. Yohana Golkaria Nainggolan (13520053)\n",
    "4. Alifia Rahmah (13520122)\n",
    "\n"
   ]
  },
  {
   "cell_type": "markdown",
   "metadata": {
    "id": "fCnZdnv7gaQw"
   },
   "source": [
    "## 1. Perancangan struktur file eksternal untuk penyimpanan model"
   ]
  },
  {
   "attachments": {},
   "cell_type": "markdown",
   "metadata": {
    "id": "aizwkGcoODif"
   },
   "source": [
    "### Deklarasi Kelas"
   ]
  },
  {
   "cell_type": "code",
   "execution_count": 208,
   "metadata": {
    "ExecuteTime": {
     "end_time": "2023-04-07T00:43:11.485066Z",
     "start_time": "2023-04-07T00:43:11.485066Z"
    },
    "colab": {
     "base_uri": "https://localhost:8080/"
    },
    "id": "SnGWEcECOGKy",
    "outputId": "e0264d37-8dc0-4c1a-dbdd-afa3dc8a38a8"
   },
   "outputs": [],
   "source": [
    "import networkx as nx\n",
    "import matplotlib.pyplot as plt\n",
    "\n",
    "class Case:\n",
    "    def __init__ (self, model, input, weights):\n",
    "      self.model = Model(model[\"input_size\"], model[\"layers\"])\n",
    "      self.input = input\n",
    "      self.weights = weights\n",
    "\n",
    "      def get_arr_neurons_weights(weights):\n",
    "        arr_neurons = []\n",
    "        for i in weights:\n",
    "           arr_neurons.append(i[1:])\n",
    "        return arr_neurons\n",
    "      \n",
    "      self.neuron_weights = get_arr_neurons_weights(self.weights)\n",
    "      \n",
    "      def get_arr_bias_weights(weights):\n",
    "        arr_bias = []\n",
    "        for i in weights:\n",
    "           arr_bias.append(i[0])\n",
    "        return arr_bias\n",
    "      \n",
    "      self.bias_weights = get_arr_bias_weights(self.weights)\n",
    "\n",
    "class Model:\n",
    "    def __init__(self, input_size, layers):\n",
    "        self.input_size = input_size\n",
    "\n",
    "        def create_array_layer(layers):\n",
    "            arr_layers = []\n",
    "            for i in range(len(layers)):\n",
    "                arr_layers.append(Layers(layers[i][\"number_of_neurons\"], layers[i][\"activation_function\"]))\n",
    "            return arr_layers\n",
    "\n",
    "        self.layers = create_array_layer(layers)\n",
    "        self.cnt_layers = len(self.layers)\n",
    "\n",
    "    def draw_compact_structure(self):\n",
    "        # input layer\n",
    "        print(f'x({self.layers[0].number_of_neurons})\\t= {self.layers[0].activation_function}')\n",
    "        print(' ↓ ')\n",
    "\n",
    "        # hidden layer\n",
    "        for i in range(1, len(self.layers)-1):\n",
    "            print(f'h{i}({self.layers[i].number_of_neurons})\\t= {self.layers[i].activation_function}')\n",
    "            print(' ↓ ')\n",
    "\n",
    "        # output layer\n",
    "        print(f'y({self.layers[i + 1].number_of_neurons})\\t= {self.layers[i + 1].activation_function}')\n",
    "\n",
    "    def draw_structure(self):\n",
    "        G = nx.Graph()\n",
    "\n",
    "        # input layer\n",
    "        for i in range(self.input_size + 1): # neuron+bias\n",
    "            G.add_node(f'x{i}', pos=(1, i + 1)) # x1, x2, ...\n",
    "\n",
    "        # hidden layer\n",
    "        for i in range(len(self.layers) - 1): # layer+bias\n",
    "            for j in range(self.layers[i].number_of_neurons + 1): # neuron+bias\n",
    "                G.add_node(f'h{i+1}{j}', pos=(i + 2, j + 1)) # hi0, hi1, .., hij\n",
    "\n",
    "                if (j > 0):\n",
    "                    if (i == 0):\n",
    "                        for k in range(self.input_size + 1):\n",
    "                            G.add_edge(f'x{k}', f'h{i+1}{j}')\n",
    "                    else:\n",
    "                         for k in range(self.layers[i-1].number_of_neurons + 1):\n",
    "                            G.add_edge(f'h{i}{k}', f'h{i+1}{j}')\n",
    "                \n",
    "        # output layer\n",
    "        for i in range(self.layers[-1].number_of_neurons): # last hidden layer\n",
    "            G.add_node(f'o{i+1}', pos=(len(self.layers) + 1, i+2))\n",
    "            for j in range(self.layers[-1].number_of_neurons + 1):\n",
    "                G.add_edge(f'h{len(self.layers)-1}{j}', f'o{i+1}')\n",
    "                \n",
    "        pos = nx.get_node_attributes(G, 'pos')\n",
    "        fig, ax = plt.subplots()\n",
    "        nx.draw_networkx_nodes(G, pos, ax=ax, node_size=1000)\n",
    "        nx.draw_networkx_edges(G, pos, ax=ax)\n",
    "        labels = {n: n for n in G.nodes()}\n",
    "        nx.draw_networkx_labels(G, pos, labels, font_color='white', ax=ax)\n",
    "        ax.set_xticks([])\n",
    "        ax.set_yticks([])\n",
    "\n",
    "        plt.show()\n",
    "\n",
    "class Layers:\n",
    "    def __init__ (self, number_of_neurons, activation_function):\n",
    "        self.number_of_neurons = number_of_neurons\n",
    "        self.activation_function = activation_function\n",
    "\n",
    "    def __str__ (self):\n",
    "        return f'number of neurons: {self.number_of_neurons}\\nactivation_function: {self.activation_function}\\n'"
   ]
  },
  {
   "attachments": {},
   "cell_type": "markdown",
   "metadata": {},
   "source": [
    "### Deklarasi Fungsi Aktivasi"
   ]
  },
  {
   "cell_type": "code",
   "execution_count": 209,
   "metadata": {
    "ExecuteTime": {
     "end_time": "2023-04-07T00:43:11.498068Z",
     "start_time": "2023-04-07T00:43:11.497067Z"
    }
   },
   "outputs": [],
   "source": [
    "# Helper function\n",
    "from math import exp\n",
    "\n",
    "# net -> persamaan linear (ax+b+...)\n",
    "\n",
    "def linear(net):\n",
    "    return net\n",
    "\n",
    "def relu(net):\n",
    "    return max(0, net)\n",
    "\n",
    "def sigmoid(net):\n",
    "    return float(1/(1 + exp(net * -1)))\n",
    "\n",
    "def softmax(net_i, arr_net):\n",
    "    net_sum = 0\n",
    "    for i in arr_net:\n",
    "        net_sum += exp(i)\n",
    "\n",
    "    return float(exp(net_i)/net_sum)"
   ]
  },
  {
   "cell_type": "markdown",
   "metadata": {
    "collapsed": false
   },
   "source": [
    "## 2. Implementasi load dari file teks"
   ]
  },
  {
   "cell_type": "code",
   "execution_count": 210,
   "metadata": {
    "ExecuteTime": {
     "end_time": "2023-04-07T00:43:11.499143Z",
     "start_time": "2023-04-07T00:43:11.499143Z"
    },
    "collapsed": false
   },
   "outputs": [],
   "source": [
    "import json\n",
    "\n",
    "def load_file(filename):\n",
    "    f = open(filename)\n",
    "\n",
    "    data = json.load(f)\n",
    "\n",
    "    # get model\n",
    "    model = data[\"case\"][\"model\"]\n",
    "\n",
    "    # get input data\n",
    "    arr_input = data[\"case\"][\"input\"]\n",
    "\n",
    "    # get weights data\n",
    "    arr_weight = data[\"case\"][\"weights\"]\n",
    "\n",
    "    # create object case\n",
    "    case = Case(model, arr_input, arr_weight)\n",
    "\n",
    "    f.close()\n",
    "\n",
    "    return case"
   ]
  },
  {
   "cell_type": "markdown",
   "metadata": {
    "collapsed": false
   },
   "source": [
    "## 3. Implementasi forward propagation"
   ]
  },
  {
   "cell_type": "code",
   "execution_count": 211,
   "metadata": {
    "ExecuteTime": {
     "end_time": "2023-04-07T00:43:11.533963Z",
     "start_time": "2023-04-07T00:43:11.533963Z"
    },
    "collapsed": false
   },
   "outputs": [],
   "source": [
    "import numpy as np\n",
    "\n",
    "def ffnn(case):\n",
    "    # create array of output\n",
    "    output = []\n",
    "\n",
    "    # print count input\n",
    "    print(f'{len(case.input)} Input')\n",
    "\n",
    "    # loop for every input\n",
    "    for i in range(len(case.input)):\n",
    "        print(\"************************************\")\n",
    "        current_data = [case.input[i]]\n",
    "\n",
    "        # print input idx\n",
    "        print(f\"input ke-{i+1}\")\n",
    "\n",
    "        # print input layer\n",
    "        print(f\"input layer has {len(case.input[i])} neurons\")\n",
    "\n",
    "        # print neurons\n",
    "        print(f\"input neurons:\")\n",
    "        print('x0 (bias) = 1')\n",
    "        for j in range(len(case.input[i])):\n",
    "            print(f'x{j+1} = {case.input[i][j]}')\n",
    "\n",
    "        print(\"==================================\")\n",
    "\n",
    "        # print count of Hidden Layer\n",
    "        print(f\"{case.model.cnt_layers - 1} Hidden layer\")\n",
    "\n",
    "        # loop for every layer\n",
    "        for j in range(case.model.cnt_layers):\n",
    "\n",
    "            kombinasilinear = np.dot(current_data, case.neuron_weights[j]) + case.bias_weights[j]\n",
    "            current_data = kombinasilinear\n",
    "\n",
    "            current_data_cpy = current_data.copy()\n",
    "\n",
    "            if( j == case.model.cnt_layers - 1):\n",
    "                # print output layer\n",
    "                print(\"==================================\")\n",
    "                print(\"Output layer\")\n",
    "\n",
    "            if (j < case.model.cnt_layers - 1):\n",
    "                # print hidden layer\n",
    "                print('----------------------------------')\n",
    "                print(f\"Hidden layer ke-{j+1}: {len(current_data[0])} neurons\")\n",
    "            else:\n",
    "                # print output layer\n",
    "                print(f\"Output layer has {len(current_data[0])} neurons\")\n",
    "\n",
    "            # print bias\n",
    "            if (j < case.model.cnt_layers - 1):\n",
    "                print(f\"n{j+1}0 (bias) = 1\")\n",
    "\n",
    "            # loop for every neuron\n",
    "            for k in range(len(current_data[0])):\n",
    "\n",
    "                if (case.model.layers[j].activation_function == \"linear\"):\n",
    "                    current_data[0][k] = linear(current_data[0][k])\n",
    "                if (case.model.layers[j].activation_function == \"relu\"):\n",
    "                    current_data[0][k] = relu(current_data[0][k])\n",
    "                if (case.model.layers[j].activation_function == \"sigmoid\"):\n",
    "                    current_data[0][k] = sigmoid(current_data[0][k])\n",
    "                if (case.model.layers[j].activation_function == \"softmax\"):\n",
    "                    current_data[0][k] = softmax(\n",
    "                        current_data_cpy[0][k], current_data_cpy[0])\n",
    "\n",
    "                if (j < case.model.cnt_layers - 1):\n",
    "                    # neuron in hidden layer\n",
    "                    print(f\"n{j+1}{k+1} = {current_data[0][k]}\")\n",
    "                else:\n",
    "                    # neuron in output layer\n",
    "                    print(f\"o{j+1}{k+1} = {current_data[0][k]}\")\n",
    "\n",
    "        output.append(current_data)\n",
    "        print(\"************************************\")\n",
    "    return output"
   ]
  },
  {
   "cell_type": "markdown",
   "metadata": {
    "collapsed": false
   },
   "source": [
    "### a. Menampilkan struktur jaringan"
   ]
  },
  {
   "cell_type": "code",
   "execution_count": 212,
   "metadata": {
    "collapsed": false
   },
   "outputs": [],
   "source": [
    "# TODO: add model.draw_compact_structure() implementation here after implement read file above"
   ]
  },
  {
   "cell_type": "code",
   "execution_count": 213,
   "metadata": {
    "collapsed": false
   },
   "outputs": [],
   "source": [
    "# TODO: add model.draw_structure() implementation here after implement read file above"
   ]
  },
  {
   "cell_type": "markdown",
   "metadata": {
    "id": "F9dJf0RzsCZe"
   },
   "source": [
    "### b. Memprediksi output untuk input 1 instance"
   ]
  },
  {
   "cell_type": "code",
   "execution_count": 214,
   "metadata": {
    "ExecuteTime": {
     "end_time": "2023-04-07T00:43:11.535963Z",
     "start_time": "2023-04-07T00:43:11.535963Z"
    }
   },
   "outputs": [],
   "source": [
    "case_one_instance_data = {\n",
    "        \"model\": {\n",
    "            \"input_size\": 3,\n",
    "            \"layers\": [\n",
    "                {\n",
    "                    \"number_of_neurons\": 4,\n",
    "                    \"activation_function\": \"relu\"\n",
    "                },\n",
    "                {\n",
    "                    \"number_of_neurons\": 3,\n",
    "                    \"activation_function\": \"sigmoid\"\n",
    "                },\n",
    "                {\n",
    "                    \"number_of_neurons\": 2,\n",
    "                    \"activation_function\": \"softmax\"\n",
    "                },\n",
    "                {\n",
    "                    \"number_of_neurons\": 2,\n",
    "                    \"activation_function\": \"linear\"\n",
    "                }\n",
    "            ]\n",
    "        },\n",
    "        \"input\": [\n",
    "            [\n",
    "                7.0,\n",
    "                2.4,\n",
    "                3.6\n",
    "            ]\n",
    "        ],\n",
    "        \"weights\": [\n",
    "            [\n",
    "                [\n",
    "                    0.6,\n",
    "                    0.2,\n",
    "                    1.8,\n",
    "                    2.5\n",
    "                ],\n",
    "                [\n",
    "                    2.5,\n",
    "                    1.2,\n",
    "                    -0.3,\n",
    "                    1.4\n",
    "                ],\n",
    "                [\n",
    "                    0.6,\n",
    "                    -0.3,\n",
    "                    0.7,\n",
    "                    1.2\n",
    "                ],\n",
    "                [\n",
    "                    2.2,\n",
    "                    -1.3,\n",
    "                    0.6,\n",
    "                    1.4\n",
    "                ]\n",
    "            ],\n",
    "            [\n",
    "                [\n",
    "                    1.4,\n",
    "                    4.5,\n",
    "                    2.4\n",
    "                ],\n",
    "                [\n",
    "                    2.6,\n",
    "                    1.2,\n",
    "                    1.3\n",
    "                ],\n",
    "                [\n",
    "                    1.1,\n",
    "                    1.4,\n",
    "                    -0.5\n",
    "                ],\n",
    "                [\n",
    "                    0.1,\n",
    "                    -0.4,\n",
    "                    1.2\n",
    "                ],\n",
    "                [\n",
    "                    2.4,\n",
    "                    -1.6,\n",
    "                    0.4\n",
    "                ]\n",
    "            ], \n",
    "            [\n",
    "                [\n",
    "                    0.7,\n",
    "                    1.3\n",
    "                ],\n",
    "                [\n",
    "                    0.5,\n",
    "                    1.2\n",
    "                ],\n",
    "                                [\n",
    "                    1.3,\n",
    "                    -0.5\n",
    "                ],\n",
    "                [\n",
    "                    2.2,\n",
    "                    0.2\n",
    "                ]\n",
    "            ],\n",
    "            [\n",
    "                [\n",
    "                    0.8,\n",
    "                    1.3\n",
    "                ],\n",
    "                [\n",
    "                    2.2,\n",
    "                    -2.1\n",
    "                ],\n",
    "                [\n",
    "                    -0.8,\n",
    "                    1.7\n",
    "                ]\n",
    "            ]\n",
    "        ]\n",
    "    }"
   ]
  },
  {
   "cell_type": "code",
   "execution_count": 215,
   "metadata": {
    "ExecuteTime": {
     "end_time": "2023-04-07T00:43:11.558333Z",
     "start_time": "2023-04-07T00:43:11.558333Z"
    }
   },
   "outputs": [],
   "source": [
    "# get model\n",
    "model_one_instance = case_one_instance_data[\"model\"]\n",
    "\n",
    "# get input data\n",
    "arr_input_one_instance = case_one_instance_data[\"input\"]\n",
    "\n",
    "# get weights data\n",
    "arr_weight_one_instance = case_one_instance_data[\"weights\"]\n",
    "\n",
    "# create object case\n",
    "case_one_instance = Case(model_one_instance, arr_input_one_instance, arr_weight_one_instance)"
   ]
  },
  {
   "cell_type": "code",
   "execution_count": 216,
   "metadata": {
    "ExecuteTime": {
     "end_time": "2023-04-07T00:43:11.560332Z",
     "start_time": "2023-04-07T00:43:11.560332Z"
    },
    "collapsed": false
   },
   "outputs": [
    {
     "name": "stdout",
     "output_type": "stream",
     "text": [
      "x(4)\t= relu\n",
      " ↓ \n",
      "h1(3)\t= sigmoid\n",
      " ↓ \n",
      "h2(2)\t= softmax\n",
      " ↓ \n",
      "y(2)\t= linear\n"
     ]
    }
   ],
   "source": [
    "# TODO: move to menampilkan struktur jaringan\n",
    "case_one_instance.model.draw_compact_structure()"
   ]
  },
  {
   "cell_type": "code",
   "execution_count": 217,
   "metadata": {
    "ExecuteTime": {
     "end_time": "2023-04-07T00:43:11.592920Z",
     "start_time": "2023-04-07T00:43:11.591909Z"
    },
    "collapsed": false
   },
   "outputs": [
    {
     "ename": "NetworkXError",
     "evalue": "Node 'h1-1' has no position.",
     "output_type": "error",
     "traceback": [
      "\u001b[1;31m---------------------------------------------------------------------------\u001b[0m",
      "\u001b[1;31mKeyError\u001b[0m                                  Traceback (most recent call last)",
      "File \u001b[1;32mc:\\Users\\HANA\\AppData\\Local\\Programs\\Python\\Python39\\lib\\site-packages\\networkx\\drawing\\nx_pylab.py:425\u001b[0m, in \u001b[0;36mdraw_networkx_nodes\u001b[1;34m(G, pos, nodelist, node_size, node_color, node_shape, alpha, cmap, vmin, vmax, ax, linewidths, edgecolors, label, margins)\u001b[0m\n\u001b[0;32m    424\u001b[0m \u001b[39mtry\u001b[39;00m:\n\u001b[1;32m--> 425\u001b[0m     xy \u001b[39m=\u001b[39m np\u001b[39m.\u001b[39masarray([pos[v] \u001b[39mfor\u001b[39;00m v \u001b[39min\u001b[39;00m nodelist])\n\u001b[0;32m    426\u001b[0m \u001b[39mexcept\u001b[39;00m \u001b[39mKeyError\u001b[39;00m \u001b[39mas\u001b[39;00m err:\n",
      "File \u001b[1;32mc:\\Users\\HANA\\AppData\\Local\\Programs\\Python\\Python39\\lib\\site-packages\\networkx\\drawing\\nx_pylab.py:425\u001b[0m, in \u001b[0;36m<listcomp>\u001b[1;34m(.0)\u001b[0m\n\u001b[0;32m    424\u001b[0m \u001b[39mtry\u001b[39;00m:\n\u001b[1;32m--> 425\u001b[0m     xy \u001b[39m=\u001b[39m np\u001b[39m.\u001b[39masarray([pos[v] \u001b[39mfor\u001b[39;00m v \u001b[39min\u001b[39;00m nodelist])\n\u001b[0;32m    426\u001b[0m \u001b[39mexcept\u001b[39;00m \u001b[39mKeyError\u001b[39;00m \u001b[39mas\u001b[39;00m err:\n",
      "\u001b[1;31mKeyError\u001b[0m: 'h1-1'",
      "\nThe above exception was the direct cause of the following exception:\n",
      "\u001b[1;31mNetworkXError\u001b[0m                             Traceback (most recent call last)",
      "\u001b[1;32mc:\\Users\\HANA\\Documents\\Kuliah\\Semester 6\\ml\\tubes1\\Tubes_13520122\\src\\TubesA_13520122.ipynb Cell 18\u001b[0m in \u001b[0;36m<cell line: 3>\u001b[1;34m()\u001b[0m\n\u001b[0;32m      <a href='vscode-notebook-cell:/c%3A/Users/HANA/Documents/Kuliah/Semester%206/ml/tubes1/Tubes_13520122/src/TubesA_13520122.ipynb#Y103sZmlsZQ%3D%3D?line=0'>1</a>\u001b[0m \u001b[39m# TODO: move to\u001b[39;00m\n\u001b[0;32m      <a href='vscode-notebook-cell:/c%3A/Users/HANA/Documents/Kuliah/Semester%206/ml/tubes1/Tubes_13520122/src/TubesA_13520122.ipynb#Y103sZmlsZQ%3D%3D?line=1'>2</a>\u001b[0m \u001b[39m#  menampilkan struktur jaringan\u001b[39;00m\n\u001b[1;32m----> <a href='vscode-notebook-cell:/c%3A/Users/HANA/Documents/Kuliah/Semester%206/ml/tubes1/Tubes_13520122/src/TubesA_13520122.ipynb#Y103sZmlsZQ%3D%3D?line=2'>3</a>\u001b[0m case_one_instance\u001b[39m.\u001b[39mmodel\u001b[39m.\u001b[39mdraw_structure()\n",
      "\u001b[1;32mc:\\Users\\HANA\\Documents\\Kuliah\\Semester 6\\ml\\tubes1\\Tubes_13520122\\src\\TubesA_13520122.ipynb Cell 18\u001b[0m in \u001b[0;36mModel.draw_structure\u001b[1;34m(self)\u001b[0m\n\u001b[0;32m     <a href='vscode-notebook-cell:/c%3A/Users/HANA/Documents/Kuliah/Semester%206/ml/tubes1/Tubes_13520122/src/TubesA_13520122.ipynb#Y103sZmlsZQ%3D%3D?line=77'>78</a>\u001b[0m pos \u001b[39m=\u001b[39m nx\u001b[39m.\u001b[39mget_node_attributes(G, \u001b[39m'\u001b[39m\u001b[39mpos\u001b[39m\u001b[39m'\u001b[39m)\n\u001b[0;32m     <a href='vscode-notebook-cell:/c%3A/Users/HANA/Documents/Kuliah/Semester%206/ml/tubes1/Tubes_13520122/src/TubesA_13520122.ipynb#Y103sZmlsZQ%3D%3D?line=78'>79</a>\u001b[0m fig, ax \u001b[39m=\u001b[39m plt\u001b[39m.\u001b[39msubplots()\n\u001b[1;32m---> <a href='vscode-notebook-cell:/c%3A/Users/HANA/Documents/Kuliah/Semester%206/ml/tubes1/Tubes_13520122/src/TubesA_13520122.ipynb#Y103sZmlsZQ%3D%3D?line=79'>80</a>\u001b[0m nx\u001b[39m.\u001b[39;49mdraw_networkx_nodes(G, pos, ax\u001b[39m=\u001b[39;49max, node_size\u001b[39m=\u001b[39;49m\u001b[39m1000\u001b[39;49m)\n\u001b[0;32m     <a href='vscode-notebook-cell:/c%3A/Users/HANA/Documents/Kuliah/Semester%206/ml/tubes1/Tubes_13520122/src/TubesA_13520122.ipynb#Y103sZmlsZQ%3D%3D?line=80'>81</a>\u001b[0m nx\u001b[39m.\u001b[39mdraw_networkx_edges(G, pos, ax\u001b[39m=\u001b[39max)\n\u001b[0;32m     <a href='vscode-notebook-cell:/c%3A/Users/HANA/Documents/Kuliah/Semester%206/ml/tubes1/Tubes_13520122/src/TubesA_13520122.ipynb#Y103sZmlsZQ%3D%3D?line=81'>82</a>\u001b[0m labels \u001b[39m=\u001b[39m {n: n \u001b[39mfor\u001b[39;00m n \u001b[39min\u001b[39;00m G\u001b[39m.\u001b[39mnodes()}\n",
      "File \u001b[1;32mc:\\Users\\HANA\\AppData\\Local\\Programs\\Python\\Python39\\lib\\site-packages\\networkx\\drawing\\nx_pylab.py:427\u001b[0m, in \u001b[0;36mdraw_networkx_nodes\u001b[1;34m(G, pos, nodelist, node_size, node_color, node_shape, alpha, cmap, vmin, vmax, ax, linewidths, edgecolors, label, margins)\u001b[0m\n\u001b[0;32m    425\u001b[0m     xy \u001b[39m=\u001b[39m np\u001b[39m.\u001b[39masarray([pos[v] \u001b[39mfor\u001b[39;00m v \u001b[39min\u001b[39;00m nodelist])\n\u001b[0;32m    426\u001b[0m \u001b[39mexcept\u001b[39;00m \u001b[39mKeyError\u001b[39;00m \u001b[39mas\u001b[39;00m err:\n\u001b[1;32m--> 427\u001b[0m     \u001b[39mraise\u001b[39;00m nx\u001b[39m.\u001b[39mNetworkXError(\u001b[39mf\u001b[39m\u001b[39m\"\u001b[39m\u001b[39mNode \u001b[39m\u001b[39m{\u001b[39;00merr\u001b[39m}\u001b[39;00m\u001b[39m has no position.\u001b[39m\u001b[39m\"\u001b[39m) \u001b[39mfrom\u001b[39;00m \u001b[39merr\u001b[39;00m\n\u001b[0;32m    429\u001b[0m \u001b[39mif\u001b[39;00m \u001b[39misinstance\u001b[39m(alpha, Iterable):\n\u001b[0;32m    430\u001b[0m     node_color \u001b[39m=\u001b[39m apply_alpha(node_color, alpha, nodelist, cmap, vmin, vmax)\n",
      "\u001b[1;31mNetworkXError\u001b[0m: Node 'h1-1' has no position."
     ]
    },
    {
     "data": {
      "image/png": "[encoded data removed]",
      "text/plain": [
       "<Figure size 432x288 with 1 Axes>"
      ]
     },
     "metadata": {
      "needs_background": "light"
     },
     "output_type": "display_data"
    }
   ],
   "source": [
    "# TODO: move to\n",
    "#  menampilkan struktur jaringan\n",
    "case_one_instance.model.draw_structure()"
   ]
  },
  {
   "cell_type": "code",
   "execution_count": null,
   "metadata": {
    "ExecuteTime": {
     "end_time": "2023-04-07T00:43:11.592920Z",
     "start_time": "2023-04-07T00:43:11.592920Z"
    }
   },
   "outputs": [
    {
     "name": "stdout",
     "output_type": "stream",
     "text": [
      "1 Input\n",
      "************************************\n",
      "input ke-1\n",
      "input layer has 3 neurons\n",
      "input neurons:\n",
      "x0 (bias) = 1\n",
      "x1 = 7.0\n",
      "x2 = 2.4\n",
      "x3 = 3.6\n",
      "==================================\n",
      "3 Hidden layer\n",
      "----------------------------------\n",
      "Hidden layer ke-1: 4 neurons\n",
      "n10 (bias) = 1\n",
      "n11 = 27.460000000000004\n",
      "n12 = 3.1999999999999993\n",
      "n13 = 3.54\n",
      "n14 = 20.22\n",
      "----------------------------------\n",
      "Hidden layer ke-2: 3 neurons\n",
      "n20 (bias) = 1\n",
      "n21 = 1.0\n",
      "n22 = 0.9997153598140323\n",
      "n23 = 1.0\n",
      "----------------------------------\n",
      "Hidden layer ke-3: 2 neurons\n",
      "n30 (bias) = 1\n",
      "n31 = 0.9241058943697005\n",
      "n32 = 0.07589410563029957\n",
      "==================================\n",
      "Output layer\n",
      "Output layer has 2 neurons\n",
      "o41 = 2.772317683109102\n",
      "o42 = -0.5116023986048619\n",
      "************************************\n",
      "[array([[ 2.77231768, -0.5116024 ]])]\n"
     ]
    }
   ],
   "source": [
    "output = ffnn(case_one_instance)\n",
    "print(output)"
   ]
  },
  {
   "attachments": {},
   "cell_type": "markdown",
   "metadata": {
    "id": "cpvGLnizsFy2"
   },
   "source": [
    "### c. Memprediksi output untuk input sejumlah instance"
   ]
  },
  {
   "cell_type": "markdown",
   "metadata": {
    "id": "wxk-phT5gxDR"
   },
   "source": [
    "## 4. Pengujian kebenaran fungsional"
   ]
  },
  {
   "attachments": {},
   "cell_type": "markdown",
   "metadata": {},
   "source": [
    "### a. Memprediksi kasus dengan test case linear.json\n"
   ]
  },
  {
   "cell_type": "code",
   "execution_count": null,
   "metadata": {
    "ExecuteTime": {
     "end_time": "2023-04-07T00:43:11.592920Z",
     "start_time": "2023-04-07T00:43:11.592920Z"
    }
   },
   "outputs": [
    {
     "name": "stdout",
     "output_type": "stream",
     "text": [
      "1 Input\n",
      "************************************\n",
      "input ke-1\n",
      "input layer has 2 neurons\n",
      "input neurons:\n",
      "x0 (bias) = 1\n",
      "x1 = 3.0\n",
      "x2 = 1.0\n",
      "==================================\n",
      "0 Hidden layer\n",
      "==================================\n",
      "Output layer\n",
      "Output layer has 3 neurons\n",
      "o11 = 2.0\n",
      "o12 = 0.3000000000000001\n",
      "o13 = -1.9000000000000004\n",
      "************************************\n"
     ]
    }
   ],
   "source": [
    "case_linear = load_file(\"linear.json\")\n",
    "output_linear = ffnn(case_linear)\n",
    "\n"
   ]
  },
  {
   "attachments": {},
   "cell_type": "markdown",
   "metadata": {},
   "source": [
    "### b. Memprediksi kasus dengan test case relu.json\n"
   ]
  },
  {
   "cell_type": "code",
   "execution_count": null,
   "metadata": {
    "ExecuteTime": {
     "end_time": "2023-04-07T00:43:11.983216Z",
     "start_time": "2023-04-07T00:43:11.983216Z"
    }
   },
   "outputs": [
    {
     "name": "stdout",
     "output_type": "stream",
     "text": [
      "1 Input\n",
      "************************************\n",
      "input ke-1\n",
      "input layer has 2 neurons\n",
      "input neurons:\n",
      "x0 (bias) = 1\n",
      "x1 = -1.0\n",
      "x2 = 0.5\n",
      "==================================\n",
      "0 Hidden layer\n",
      "==================================\n",
      "Output layer\n",
      "Output layer has 3 neurons\n",
      "o11 = 0.04999999999999996\n",
      "o12 = 1.1\n",
      "o13 = 0.0\n",
      "************************************\n",
      "[array([[0.05, 1.1 , 0.  ]])]\n"
     ]
    }
   ],
   "source": [
    "case_relu = load_file(\"relu.json\")\n",
    "output_relu = ffnn(case_relu)\n",
    "\n",
    "print(output_relu)"
   ]
  },
  {
   "attachments": {},
   "cell_type": "markdown",
   "metadata": {},
   "source": [
    "### c. Memprediksi kasus dengan test case softmax.json"
   ]
  },
  {
   "cell_type": "code",
   "execution_count": null,
   "metadata": {
    "ExecuteTime": {
     "end_time": "2023-04-07T00:43:11.983216Z",
     "start_time": "2023-04-07T00:43:11.983216Z"
    }
   },
   "outputs": [
    {
     "name": "stdout",
     "output_type": "stream",
     "text": [
      "1 Input\n",
      "************************************\n",
      "input ke-1\n",
      "input layer has 2 neurons\n",
      "input neurons:\n",
      "x0 (bias) = 1\n",
      "x1 = 1.0\n",
      "x2 = 2.0\n",
      "==================================\n",
      "0 Hidden layer\n",
      "==================================\n",
      "Output layer\n",
      "Output layer has 3 neurons\n",
      "o11 = 0.6652409557748219\n",
      "o12 = 0.09003057317038045\n",
      "o13 = 0.24472847105479764\n",
      "************************************\n",
      "[array([[0.66524096, 0.09003057, 0.24472847]])]\n"
     ]
    }
   ],
   "source": [
    "case_softmax = load_file(\"softmax.json\")\n",
    "output_softmax = ffnn(case_softmax)\n",
    "\n",
    "print(output_softmax)"
   ]
  },
  {
   "attachments": {},
   "cell_type": "markdown",
   "metadata": {},
   "source": [
    "### d. Memprediksi kasus dengan test case sigmoid.json"
   ]
  },
  {
   "cell_type": "code",
   "execution_count": null,
   "metadata": {
    "ExecuteTime": {
     "end_time": "2023-04-07T00:43:11.984219Z",
     "start_time": "2023-04-07T00:43:11.984219Z"
    }
   },
   "outputs": [
    {
     "name": "stdout",
     "output_type": "stream",
     "text": [
      "1 Input\n",
      "************************************\n",
      "input ke-1\n",
      "input layer has 2 neurons\n",
      "input neurons:\n",
      "x0 (bias) = 1\n",
      "x1 = 0.2\n",
      "x2 = 0.4\n",
      "==================================\n",
      "0 Hidden layer\n",
      "==================================\n",
      "Output layer\n",
      "Output layer has 3 neurons\n",
      "o11 = 0.617747874769249\n",
      "o12 = 0.5890404340586651\n",
      "o13 = 0.574442516811659\n",
      "************************************\n",
      "[array([[0.61774787, 0.58904043, 0.57444252]])]\n"
     ]
    }
   ],
   "source": [
    "case_sigmoid= load_file(\"sigmoid.json\")\n",
    "output_sigmoid = ffnn(case_sigmoid)\n",
    "\n",
    "print(output_sigmoid)"
   ]
  },
  {
   "attachments": {},
   "cell_type": "markdown",
   "metadata": {},
   "source": [
    "### e. Memprediksi kasus dengan test case multilayer.json"
   ]
  },
  {
   "cell_type": "code",
   "execution_count": null,
   "metadata": {
    "ExecuteTime": {
     "end_time": "2023-04-07T00:43:11.985217Z",
     "start_time": "2023-04-07T00:43:11.985217Z"
    }
   },
   "outputs": [
    {
     "name": "stdout",
     "output_type": "stream",
     "text": [
      "3 Input\n",
      "************************************\n",
      "input ke-1\n",
      "input layer has 2 neurons\n",
      "input neurons:\n",
      "x0 (bias) = 1\n",
      "x1 = 1.0\n",
      "x2 = 0.0\n",
      "==================================\n",
      "1 Hidden layer\n",
      "----------------------------------\n",
      "Hidden layer ke-1: 2 neurons\n",
      "n10 (bias) = 1\n",
      "n11 = 0.5\n",
      "n12 = -1.5\n",
      "==================================\n",
      "Output layer\n",
      "Output layer has 2 neurons\n",
      "o21 = 2.0\n",
      "o22 = 0.0\n",
      "************************************\n",
      "************************************\n",
      "input ke-2\n",
      "input layer has 2 neurons\n",
      "input neurons:\n",
      "x0 (bias) = 1\n",
      "x1 = 0.0\n",
      "x2 = 1.0\n",
      "==================================\n",
      "1 Hidden layer\n",
      "----------------------------------\n",
      "Hidden layer ke-1: 2 neurons\n",
      "n10 (bias) = 1\n",
      "n11 = -0.5\n",
      "n12 = 0.5\n",
      "==================================\n",
      "Output layer\n",
      "Output layer has 2 neurons\n",
      "o21 = 0.0\n",
      "o22 = 2.0\n",
      "************************************\n",
      "************************************\n",
      "input ke-3\n",
      "input layer has 2 neurons\n",
      "input neurons:\n",
      "x0 (bias) = 1\n",
      "x1 = 0.0\n",
      "x2 = 0.0\n",
      "==================================\n",
      "1 Hidden layer\n",
      "----------------------------------\n",
      "Hidden layer ke-1: 2 neurons\n",
      "n10 (bias) = 1\n",
      "n11 = 0.5\n",
      "n12 = 0.5\n",
      "==================================\n",
      "Output layer\n",
      "Output layer has 2 neurons\n",
      "o21 = 0.0\n",
      "o22 = 0.0\n",
      "************************************\n",
      "[array([[2., 0.]]), array([[0., 2.]]), array([[0., 0.]])]\n"
     ]
    }
   ],
   "source": [
    "case_multilayer = load_file(\"multilayer.json\")\n",
    "output_multilayer = ffnn(case_multilayer)\n",
    "\n",
    "print(output_multilayer)"
   ]
  },
  {
   "cell_type": "code",
   "execution_count": null,
   "metadata": {
    "ExecuteTime": {
     "end_time": "2023-04-07T00:43:11.986219Z",
     "start_time": "2023-04-07T00:43:11.986219Z"
    }
   },
   "outputs": [],
   "source": []
  },
  {
   "cell_type": "code",
   "execution_count": null,
   "metadata": {
    "ExecuteTime": {
     "end_time": "2023-04-07T00:43:11.987219Z",
     "start_time": "2023-04-07T00:43:11.987219Z"
    }
   },
   "outputs": [],
   "source": []
  }
 ],
 "metadata": {
  "colab": {
   "authorship_tag": "ABX9TyMHPTVh4yCtyRcr4QLDbQOB",
   "include_colab_link": true,
   "provenance": []
  },
  "kernelspec": {
   "display_name": "Python 3 (ipykernel)",
   "language": "python",
   "name": "python3"
  },
  "language_info": {
   "codemirror_mode": {
    "name": "ipython",
    "version": 3
   },
   "file_extension": ".py",
   "mimetype": "text/x-python",
   "name": "python",
   "nbconvert_exporter": "python",
   "pygments_lexer": "ipython3",
   "version": "3.9.10"
  }
 },
 "nbformat": 4,
 "nbformat_minor": 4
}
