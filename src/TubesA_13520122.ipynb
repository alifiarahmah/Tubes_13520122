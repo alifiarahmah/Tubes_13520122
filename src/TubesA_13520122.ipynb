{
 "cells": [
  {
   "cell_type": "markdown",
   "metadata": {
    "id": "149jvg2_f_WJ"
   },
   "source": [
    "# Tugas Besar IF3270 Pembelajaran Mesin\n",
    "## Bagian A: Implementasi Forward Propagation untuk Feed Forward Neural Network\n",
    "\n",
    "Anggota kelompok:\n",
    "\n",
    "1. Christine Hutabarat (13520005)\n",
    "2. Hana Fathiyah (13520047)\n",
    "3. Yohana Golkaria Nainggolan (13520053)\n",
    "4. Alifia Rahmah (13520122)\n",
    "\n"
   ]
  },
  {
   "cell_type": "markdown",
   "metadata": {
    "id": "fCnZdnv7gaQw"
   },
   "source": [
    "## 1. Perancangan struktur file eksternal untuk penyimpanan model"
   ]
  },
  {
   "attachments": {},
   "cell_type": "markdown",
   "metadata": {
    "id": "aizwkGcoODif"
   },
   "source": [
    "### Deklarasi Kelas"
   ]
  },
  {
   "cell_type": "code",
   "execution_count": 2,
   "metadata": {
    "colab": {
     "base_uri": "https://localhost:8080/"
    },
    "id": "SnGWEcECOGKy",
    "outputId": "e0264d37-8dc0-4c1a-dbdd-afa3dc8a38a8"
   },
   "outputs": [],
   "source": [
    "class Case:\n",
    "    def __init__(self, model, input, weights):\n",
    "      self.model = Model(model[\"input_size\"], model[\"layers\"])\n",
    "      self.input = input\n",
    "      self.weights = weights\n",
    "\n",
    "      def get_arr_neurons_weights(weights):\n",
    "        arr_neurons = []\n",
    "        for i in weights:\n",
    "           arr_neurons.append(i[1:])\n",
    "        return arr_neurons\n",
    "      \n",
    "      self.neuron_weights = get_arr_neurons_weights(self.weights)\n",
    "      \n",
    "      def get_arr_bias_weights(weights):\n",
    "        arr_bias = []\n",
    "        for i in weights:\n",
    "           arr_bias.append(i[0])\n",
    "        return arr_bias\n",
    "      \n",
    "      self.bias_weights = get_arr_bias_weights(self.weights)\n",
    "    \n",
    "class Model:\n",
    "    def __init__(self, input_size, layers):\n",
    "        self.input_size = input_size\n",
    "\n",
    "        def create_array_layer(layers):\n",
    "          arr_layers = []\n",
    "          for i in range(len(layers)):\n",
    "            arr_layers.append(Layers(layers[i][\"number_of_neurons\"], layers[i][\"activation_function\"]))\n",
    "          return arr_layers\n",
    "        \n",
    "        self.layers = create_array_layer(layers)\n",
    "        self.cnt_layers = len(self.layers)\n",
    "        \n",
    "class Layers:\n",
    "   def __init__ (self, number_of_neurons, activation_function):\n",
    "      self.number_of_neurons = number_of_neurons\n",
    "      self.activation_function = activation_function\n",
    "\n"
   ]
  },
  {
   "attachments": {},
   "cell_type": "markdown",
   "metadata": {},
   "source": [
    "### Deklarasi Fungsi Aktivasi"
   ]
  },
  {
   "cell_type": "code",
   "execution_count": 3,
   "metadata": {},
   "outputs": [],
   "source": [
    "# Helper function\n",
    "from math import exp\n",
    "\n",
    "# net -> persamaan linear (ax+b+...)\n",
    "\n",
    "def linear(net):\n",
    "    return net\n",
    "\n",
    "def relu(net):\n",
    "    return max(0, net)\n",
    "\n",
    "def sigmoid(net):\n",
    "    return float(1/(1 + exp(net * -1)))\n",
    "\n",
    "def softmax(net_i, arr_net):\n",
    "    net_sum = 0\n",
    "    for i in arr_net:\n",
    "        net_sum += exp(i)\n",
    "\n",
    "    return float(exp(net_i)/net_sum)"
   ]
  },
  {
   "cell_type": "markdown",
   "metadata": {
    "id": "bTi0PUUagfAF"
   },
   "source": [
    "## 2. Implementasi load dari file teks"
   ]
  },
  {
   "cell_type": "code",
   "execution_count": 4,
   "metadata": {},
   "outputs": [],
   "source": [
    "import json\n",
    "\n",
    "def load_file(filename):\n",
    "    f = open(filename)\n",
    "\n",
    "    data = json.load(f)\n",
    "\n",
    "    # get model\n",
    "    model = data[\"case\"][\"model\"]\n",
    "\n",
    "    # get input data\n",
    "    arr_input = data[\"case\"][\"input\"]\n",
    "\n",
    "    # get weights data\n",
    "    arr_weight = data[\"case\"][\"weights\"]\n",
    "\n",
    "    # create object case\n",
    "    case = Case(model, arr_input, arr_weight)\n",
    "\n",
    "    f.close()\n",
    "\n",
    "    return case"
   ]
  },
  {
   "cell_type": "markdown",
   "metadata": {
    "id": "tUWSWgWMgrno"
   },
   "source": [
    "## 3. Implementasi forward propagation"
   ]
  },
  {
   "cell_type": "code",
   "execution_count": 5,
   "metadata": {},
   "outputs": [],
   "source": [
    "import numpy as np\n",
    "\n",
    "def ffnn(case):\n",
    "    # create array of output\n",
    "    output = []\n",
    "\n",
    "    # print count input\n",
    "    print(f'{len(case.input)} Input')\n",
    "\n",
    "    # loop for every input\n",
    "    for i in range(len(case.input)):\n",
    "        print(\"===================================\")\n",
    "        current_data = [case.input[i]]\n",
    "\n",
    "        # print input idx\n",
    "        print(f\"input ke-{i+1}\")\n",
    "\n",
    "        # print input layer\n",
    "        print(f\"input layer has {len(case.input[i])} neurons\")\n",
    "\n",
    "        # print neurons\n",
    "        print(f\"input neurons:\")\n",
    "        print('x0 (bias) = 1')\n",
    "        for j in range(len(case.input[i])):\n",
    "            print(f'x{j+1} = {case.input[i][j]}')\n",
    "\n",
    "        print(\"---\")\n",
    "\n",
    "        # print count of Hidden Layer\n",
    "        print(f\"{case.model.cnt_layers - 1} Hidden layer\")\n",
    "\n",
    "        # loop for every layer\n",
    "        for j in range(case.model.cnt_layers):\n",
    "            \n",
    "            kombinasilinear = np.dot(current_data, case.neuron_weights[j]) + case.bias_weights[j]\n",
    "            current_data = kombinasilinear\n",
    "        \n",
    "            current_data_cpy = current_data.copy()\n",
    "            \n",
    "            if( j == case.model.cnt_layers - 1):\n",
    "                # print output layer\n",
    "                print(\"---\")\n",
    "                print(\"Output layer\")\n",
    "                \n",
    "            if (j < case.model.cnt_layers - 1):\n",
    "                # print hidden layer\n",
    "                print(f\"Hidden layer ke-{j+1}: {len(current_data[0])} neurons\")\n",
    "            else:\n",
    "                # print output layer\n",
    "                print(f\"Output layer has {len(current_data[0])} neurons\")\n",
    "\n",
    "            # print bias\n",
    "            if (j < case.model.cnt_layers - 1):\n",
    "                print(f\"n{j+1}0 (bias) = 1\")  \n",
    "\n",
    "            # loop for every neuron\n",
    "            for k in range(len(current_data[0])):\n",
    "\n",
    "                if (case.model.layers[j].activation_function == \"linear\"):\n",
    "                    current_data[0][k] = linear(current_data[0][k])\n",
    "                if (case.model.layers[j].activation_function == \"relu\"):\n",
    "                    current_data[0][k] = relu(current_data[0][k])\n",
    "                if (case.model.layers[j].activation_function == \"sigmoid\"):\n",
    "                    current_data[0][k] = sigmoid(current_data[0][k])\n",
    "                if (case.model.layers[j].activation_function == \"softmax\"):\n",
    "                    current_data[0][k] = softmax(\n",
    "                        current_data_cpy[0][k], current_data_cpy[0])\n",
    "                \n",
    "                if (j < case.model.cnt_layers - 1):\n",
    "                    # neuron in hidden layer\n",
    "                    print(f\"n{j+1}{k+1}: {current_data[0][k]}\")\n",
    "                else:\n",
    "                    # neuron in output layer\n",
    "                    print(f\"o{j+1}{k+1}: {current_data[0][k]}\")\n",
    "        \n",
    "        output.append(current_data)\n",
    "        # print(\"===================================\\n\")\n",
    "    return output"
   ]
  },
  {
   "cell_type": "markdown",
   "metadata": {
    "id": "YezarRz1nWGL"
   },
   "source": [
    "### a. Menampilkan struktur jaringan"
   ]
  },
  {
   "cell_type": "code",
   "execution_count": 8,
   "metadata": {
    "id": "JbxBBSeKnZ3D"
   },
   "outputs": [],
   "source": [
    "def draw_compact_structure(layers):\n",
    "  print(f'x({layers[0][0]})\\t= {layers[0][1]}')\n",
    "  print(' ↓ ')\n",
    "  for i in range(1, len(layers)-1):\n",
    "    print(f'h{i}({layers[i][0]})\\t= {layers[i][1]}')\n",
    "    print(' ↓ ')\n",
    "  print(f'y({layers[i+1][0]})\\t= {layers[i+1][1]}')"
   ]
  },
  {
   "cell_type": "code",
   "execution_count": 9,
   "metadata": {
    "colab": {
     "base_uri": "https://localhost:8080/"
    },
    "id": "s8kXFi3ftXDN",
    "outputId": "e2ceebbb-ce2d-4003-a048-743bbd2cec3d"
   },
   "outputs": [
    {
     "ename": "NameError",
     "evalue": "name 'arr_layer' is not defined",
     "output_type": "error",
     "traceback": [
      "\u001b[1;31m---------------------------------------------------------------------------\u001b[0m",
      "\u001b[1;31mNameError\u001b[0m                                 Traceback (most recent call last)",
      "\u001b[1;32mc:\\Users\\HANA\\Documents\\Kuliah\\Semester 6\\ml\\tubes1\\Tubes_13520122\\src\\TubesA_13520122.ipynb Cell 13\u001b[0m in \u001b[0;36m<cell line: 1>\u001b[1;34m()\u001b[0m\n\u001b[1;32m----> <a href='vscode-notebook-cell:/c%3A/Users/HANA/Documents/Kuliah/Semester%206/ml/tubes1/Tubes_13520122/src/TubesA_13520122.ipynb#X15sZmlsZQ%3D%3D?line=0'>1</a>\u001b[0m draw_compact_structure(arr_layer)\n",
      "\u001b[1;31mNameError\u001b[0m: name 'arr_layer' is not defined"
     ]
    }
   ],
   "source": [
    "draw_compact_structure(arr_layer)"
   ]
  },
  {
   "cell_type": "code",
   "execution_count": 10,
   "metadata": {
    "id": "ljie_uapuoiV"
   },
   "outputs": [
    {
     "ename": "ModuleNotFoundError",
     "evalue": "No module named 'networkx'",
     "output_type": "error",
     "traceback": [
      "\u001b[1;31m---------------------------------------------------------------------------\u001b[0m",
      "\u001b[1;31mModuleNotFoundError\u001b[0m                       Traceback (most recent call last)",
      "\u001b[1;32mc:\\Users\\HANA\\Documents\\Kuliah\\Semester 6\\ml\\tubes1\\Tubes_13520122\\src\\TubesA_13520122.ipynb Cell 14\u001b[0m in \u001b[0;36m<cell line: 1>\u001b[1;34m()\u001b[0m\n\u001b[1;32m----> <a href='vscode-notebook-cell:/c%3A/Users/HANA/Documents/Kuliah/Semester%206/ml/tubes1/Tubes_13520122/src/TubesA_13520122.ipynb#X16sZmlsZQ%3D%3D?line=0'>1</a>\u001b[0m \u001b[39mimport\u001b[39;00m \u001b[39mnetworkx\u001b[39;00m \u001b[39mas\u001b[39;00m \u001b[39mnx\u001b[39;00m\n\u001b[0;32m      <a href='vscode-notebook-cell:/c%3A/Users/HANA/Documents/Kuliah/Semester%206/ml/tubes1/Tubes_13520122/src/TubesA_13520122.ipynb#X16sZmlsZQ%3D%3D?line=1'>2</a>\u001b[0m \u001b[39mimport\u001b[39;00m \u001b[39mmatplotlib\u001b[39;00m\u001b[39m.\u001b[39;00m\u001b[39mpyplot\u001b[39;00m \u001b[39mas\u001b[39;00m \u001b[39mplt\u001b[39;00m\n\u001b[0;32m      <a href='vscode-notebook-cell:/c%3A/Users/HANA/Documents/Kuliah/Semester%206/ml/tubes1/Tubes_13520122/src/TubesA_13520122.ipynb#X16sZmlsZQ%3D%3D?line=3'>4</a>\u001b[0m \u001b[39mdef\u001b[39;00m \u001b[39mdraw_structure\u001b[39m(layers):\n",
      "\u001b[1;31mModuleNotFoundError\u001b[0m: No module named 'networkx'"
     ]
    }
   ],
   "source": [
    "import networkx as nx\n",
    "import matplotlib.pyplot as plt\n",
    "\n",
    "def draw_structure(layers):\n",
    "  G = nx.Graph()\n",
    "\n",
    "  # input\n",
    "  for i in range(layers[0][0]+1): # neuron+bias\n",
    "    G.add_node(f'x{i}', pos=(1, i+1)) # x1, x2, ...\n",
    "\n",
    "  # hidden\n",
    "  for i in range(1, len(layers)-1): # layer+bias\n",
    "    for j in range(layers[i][0]+1): # neuron+bias\n",
    "      G.add_node(f'h{i}{j}', pos=(i+1, j+1)) # hi0, hi1, .., hij\n",
    "      for k in range(layers[i-1][0]+1):\n",
    "        G.add_edge(f'x{k}', f'h{i}{j}')\n",
    "\n",
    "  # output\n",
    "  for i in range(layers[-1][0]): # neuron+bias\n",
    "    for j in range(layers[-2][0]+1): # last hidden layer\n",
    "      G.add_node(f'o{i+1}', pos=(len(layers), i+1))\n",
    "      G.add_edge(f'h{len(layers)-2}{j}', f'o{i+1}')\n",
    "\n",
    "  pos = nx.get_node_attributes(G, 'pos')\n",
    "  fig, ax = plt.subplots()\n",
    "  nx.draw_networkx_nodes(G, pos, ax=ax, node_size=1000)\n",
    "  nx.draw_networkx_edges(G, pos, ax=ax)\n",
    "  labels = {n: n for n in G.nodes()}\n",
    "  nx.draw_networkx_labels(G, pos, labels, font_color='white', ax=ax)\n",
    "  ax.set_xticks([])\n",
    "  ax.set_yticks([])\n",
    "\n",
    "  plt.show()"
   ]
  },
  {
   "cell_type": "code",
   "execution_count": 11,
   "metadata": {
    "colab": {
     "base_uri": "https://localhost:8080/",
     "height": 248
    },
    "id": "Y7dPHPUrTHCO",
    "outputId": "1a6df9da-6997-42ee-b203-173e6713d5bf"
   },
   "outputs": [
    {
     "ename": "NameError",
     "evalue": "name 'draw_structure' is not defined",
     "output_type": "error",
     "traceback": [
      "\u001b[1;31m---------------------------------------------------------------------------\u001b[0m",
      "\u001b[1;31mNameError\u001b[0m                                 Traceback (most recent call last)",
      "\u001b[1;32mc:\\Users\\HANA\\Documents\\Kuliah\\Semester 6\\ml\\tubes1\\Tubes_13520122\\src\\TubesA_13520122.ipynb Cell 15\u001b[0m in \u001b[0;36m<cell line: 1>\u001b[1;34m()\u001b[0m\n\u001b[1;32m----> <a href='vscode-notebook-cell:/c%3A/Users/HANA/Documents/Kuliah/Semester%206/ml/tubes1/Tubes_13520122/src/TubesA_13520122.ipynb#X20sZmlsZQ%3D%3D?line=0'>1</a>\u001b[0m draw_structure(arr_layer)\n",
      "\u001b[1;31mNameError\u001b[0m: name 'draw_structure' is not defined"
     ]
    }
   ],
   "source": [
    "draw_structure(arr_layer)"
   ]
  },
  {
   "cell_type": "markdown",
   "metadata": {
    "id": "F9dJf0RzsCZe"
   },
   "source": [
    "### b. Memprediksi output untuk input 1 instance"
   ]
  },
  {
   "cell_type": "code",
   "execution_count": 12,
   "metadata": {},
   "outputs": [
    {
     "name": "stdout",
     "output_type": "stream",
     "text": [
      "3 Input\n",
      "===================================\n",
      "input ke-1\n",
      "input layer has 2 neurons\n",
      "input neurons:\n",
      "x0 (bias) = 1\n",
      "x1 = 1.0\n",
      "x2 = 0.0\n",
      "---\n",
      "1 Hidden layer\n",
      "Hidden layer ke-1: 2 neurons\n",
      "n10 (bias) = 1\n",
      "n11: 0.5\n",
      "n12: -1.5\n",
      "---\n",
      "Output layer\n",
      "Output layer has 2 neurons\n",
      "o21: 2.0\n",
      "o22: 0.0\n",
      "===================================\n",
      "input ke-2\n",
      "input layer has 2 neurons\n",
      "input neurons:\n",
      "x0 (bias) = 1\n",
      "x1 = 0.0\n",
      "x2 = 1.0\n",
      "---\n",
      "1 Hidden layer\n",
      "Hidden layer ke-1: 2 neurons\n",
      "n10 (bias) = 1\n",
      "n11: -0.5\n",
      "n12: 0.5\n",
      "---\n",
      "Output layer\n",
      "Output layer has 2 neurons\n",
      "o21: 0.0\n",
      "o22: 2.0\n",
      "===================================\n",
      "input ke-3\n",
      "input layer has 2 neurons\n",
      "input neurons:\n",
      "x0 (bias) = 1\n",
      "x1 = 0.0\n",
      "x2 = 0.0\n",
      "---\n",
      "1 Hidden layer\n",
      "Hidden layer ke-1: 2 neurons\n",
      "n10 (bias) = 1\n",
      "n11: 0.5\n",
      "n12: 0.5\n",
      "---\n",
      "Output layer\n",
      "Output layer has 2 neurons\n",
      "o21: 0.0\n",
      "o22: 0.0\n",
      "[array([[2., 0.]]), array([[0., 2.]]), array([[0., 0.]])]\n"
     ]
    }
   ],
   "source": [
    "case = load_file(\"multilayer.json\")\n",
    "output = ffnn(case)\n",
    "\n",
    "print(output)"
   ]
  },
  {
   "attachments": {},
   "cell_type": "markdown",
   "metadata": {
    "id": "cpvGLnizsFy2"
   },
   "source": [
    "### c. Memprediksi output untuk input sejumlah instance"
   ]
  },
  {
   "cell_type": "code",
   "execution_count": 13,
   "metadata": {
    "id": "2gHGMHlVvfI3"
   },
   "outputs": [],
   "source": [
    "import numpy as np\n",
    "\n",
    "def predict(self, x, value):\n",
    "    for i in range(len(self.layers)):\n",
    "        layer = layers[i]\n",
    "        if i == 0:\n",
    "            value = np.dot(x, layer.weights) + layer.bias\n",
    "        else:\n",
    "            value = np.dot(value, layer.weights) + layer.bias\n",
    "\n",
    "    self.value = value\n",
    "    self.activation_val = self.activation(value)\n",
    "    \n",
    "    layer.activation_val = layer.activation(np.dot(layer.value, layer.weights) + layer.bias)\n",
    "\n",
    "    self.prediction = np.copy(self.layers[-1].activation_val)\n",
    "    self.prediction = self.prediction.reshape(self.prediction.shape[0], 1)\n",
    "\n",
    "    for i in range(len(self.prediction)):\n",
    "        if self.prediction[i] >= 0.5:\n",
    "            self.prediction[i] = 1\n",
    "        else:\n",
    "            self.prediction[i] = 0\n",
    "\n",
    "    print(\"Number of layers: {}\".format(self.n_layers))\n",
    "    for i in range(self.n_layers):\n",
    "        print(\"Layer {}\".format(i+1))\n",
    "        print(\"Activation function: {}\".format(self.layers[i].activation))\n",
    "        print(\"Weights: \\n{}\".format(self.layers[i].weights))\n",
    "        print(\"Biases: \\n{}\".format(self.layers[i].biases))\n",
    "        print(\"Activation value: \\n{}\".format(self.layers[i].activation_val))\n",
    "        print(\"=\"*20)\n",
    "\n",
    "    print(\"Prediction: {}\".format(self.prediction))"
   ]
  },
  {
   "cell_type": "markdown",
   "metadata": {
    "id": "wxk-phT5gxDR"
   },
   "source": [
    "## 4. Pengujian kebenaran fungsional"
   ]
  },
  {
   "attachments": {},
   "cell_type": "markdown",
   "metadata": {},
   "source": [
    "### a. Memprediksi kasus dengan test case linear.json\n"
   ]
  },
  {
   "cell_type": "code",
   "execution_count": 14,
   "metadata": {},
   "outputs": [
    {
     "name": "stdout",
     "output_type": "stream",
     "text": [
      "1 Input\n",
      "===================================\n",
      "input ke-1\n",
      "input layer has 2 neurons\n",
      "input neurons:\n",
      "x0 (bias) = 1\n",
      "x1 = 3.0\n",
      "x2 = 1.0\n",
      "---\n",
      "0 Hidden layer\n",
      "---\n",
      "Output layer\n",
      "Output layer has 3 neurons\n",
      "o11: 2.0\n",
      "o12: 0.3000000000000001\n",
      "o13: -1.9000000000000004\n",
      "[array([[ 2. ,  0.3, -1.9]])]\n"
     ]
    }
   ],
   "source": [
    "case_linear = load_file(\"linear.json\")\n",
    "output_linear = ffnn(case_linear)\n",
    "\n",
    "print(output_linear)"
   ]
  },
  {
   "attachments": {},
   "cell_type": "markdown",
   "metadata": {},
   "source": [
    "### b. Memprediksi kasus dengan test case relu.json\n"
   ]
  },
  {
   "cell_type": "code",
   "execution_count": 15,
   "metadata": {},
   "outputs": [
    {
     "name": "stdout",
     "output_type": "stream",
     "text": [
      "1 Input\n",
      "===================================\n",
      "input ke-1\n",
      "input layer has 2 neurons\n",
      "input neurons:\n",
      "x0 (bias) = 1\n",
      "x1 = -1.0\n",
      "x2 = 0.5\n",
      "---\n",
      "0 Hidden layer\n",
      "---\n",
      "Output layer\n",
      "Output layer has 3 neurons\n",
      "o11: 0.04999999999999996\n",
      "o12: 1.1\n",
      "o13: 0.0\n",
      "[array([[0.05, 1.1 , 0.  ]])]\n"
     ]
    }
   ],
   "source": [
    "case_relu = load_file(\"relu.json\")\n",
    "output_relu = ffnn(case_relu)\n",
    "\n",
    "print(output_relu)"
   ]
  },
  {
   "attachments": {},
   "cell_type": "markdown",
   "metadata": {},
   "source": [
    "### c. Memprediksi kasus dengan test case softmax.json"
   ]
  },
  {
   "cell_type": "code",
   "execution_count": 16,
   "metadata": {},
   "outputs": [
    {
     "name": "stdout",
     "output_type": "stream",
     "text": [
      "1 Input\n",
      "===================================\n",
      "input ke-1\n",
      "input layer has 2 neurons\n",
      "input neurons:\n",
      "x0 (bias) = 1\n",
      "x1 = 1.0\n",
      "x2 = 2.0\n",
      "---\n",
      "0 Hidden layer\n",
      "---\n",
      "Output layer\n",
      "Output layer has 3 neurons\n",
      "o11: 0.6652409557748219\n",
      "o12: 0.09003057317038045\n",
      "o13: 0.24472847105479764\n",
      "[array([[0.66524096, 0.09003057, 0.24472847]])]\n"
     ]
    }
   ],
   "source": [
    "case_softmax = load_file(\"softmax.json\")\n",
    "output_softmax = ffnn(case_softmax)\n",
    "\n",
    "print(output_softmax)"
   ]
  },
  {
   "attachments": {},
   "cell_type": "markdown",
   "metadata": {},
   "source": [
    "### d. Memprediksi kasus dengan test case sigmoid.json"
   ]
  },
  {
   "cell_type": "code",
   "execution_count": 17,
   "metadata": {},
   "outputs": [
    {
     "name": "stdout",
     "output_type": "stream",
     "text": [
      "1 Input\n",
      "===================================\n",
      "input ke-1\n",
      "input layer has 2 neurons\n",
      "input neurons:\n",
      "x0 (bias) = 1\n",
      "x1 = 0.2\n",
      "x2 = 0.4\n",
      "---\n",
      "0 Hidden layer\n",
      "---\n",
      "Output layer\n",
      "Output layer has 3 neurons\n",
      "o11: 0.617747874769249\n",
      "o12: 0.5890404340586651\n",
      "o13: 0.574442516811659\n",
      "[array([[0.61774787, 0.58904043, 0.57444252]])]\n"
     ]
    }
   ],
   "source": [
    "case_sigmoid= load_file(\"sigmoid.json\")\n",
    "output_sigmoid = ffnn(case_sigmoid)\n",
    "\n",
    "print(output_sigmoid)"
   ]
  },
  {
   "attachments": {},
   "cell_type": "markdown",
   "metadata": {},
   "source": [
    "### e. Memprediksi kasus dengan test case multilayer.json"
   ]
  },
  {
   "cell_type": "code",
   "execution_count": 18,
   "metadata": {},
   "outputs": [
    {
     "name": "stdout",
     "output_type": "stream",
     "text": [
      "3 Input\n",
      "===================================\n",
      "input ke-1\n",
      "input layer has 2 neurons\n",
      "input neurons:\n",
      "x0 (bias) = 1\n",
      "x1 = 1.0\n",
      "x2 = 0.0\n",
      "---\n",
      "1 Hidden layer\n",
      "Hidden layer ke-1: 2 neurons\n",
      "n10 (bias) = 1\n",
      "n11: 0.5\n",
      "n12: -1.5\n",
      "---\n",
      "Output layer\n",
      "Output layer has 2 neurons\n",
      "o21: 2.0\n",
      "o22: 0.0\n",
      "===================================\n",
      "input ke-2\n",
      "input layer has 2 neurons\n",
      "input neurons:\n",
      "x0 (bias) = 1\n",
      "x1 = 0.0\n",
      "x2 = 1.0\n",
      "---\n",
      "1 Hidden layer\n",
      "Hidden layer ke-1: 2 neurons\n",
      "n10 (bias) = 1\n",
      "n11: -0.5\n",
      "n12: 0.5\n",
      "---\n",
      "Output layer\n",
      "Output layer has 2 neurons\n",
      "o21: 0.0\n",
      "o22: 2.0\n",
      "===================================\n",
      "input ke-3\n",
      "input layer has 2 neurons\n",
      "input neurons:\n",
      "x0 (bias) = 1\n",
      "x1 = 0.0\n",
      "x2 = 0.0\n",
      "---\n",
      "1 Hidden layer\n",
      "Hidden layer ke-1: 2 neurons\n",
      "n10 (bias) = 1\n",
      "n11: 0.5\n",
      "n12: 0.5\n",
      "---\n",
      "Output layer\n",
      "Output layer has 2 neurons\n",
      "o21: 0.0\n",
      "o22: 0.0\n",
      "[array([[2., 0.]]), array([[0., 2.]]), array([[0., 0.]])]\n"
     ]
    }
   ],
   "source": [
    "case_multilayer = load_file(\"multilayer.json\")\n",
    "output_multilayer = ffnn(case_multilayer)\n",
    "\n",
    "print(output_multilayer)"
   ]
  },
  {
   "cell_type": "code",
   "execution_count": null,
   "metadata": {},
   "outputs": [],
   "source": []
  },
  {
   "cell_type": "code",
   "execution_count": null,
   "metadata": {},
   "outputs": [],
   "source": []
  }
 ],
 "metadata": {
  "colab": {
   "authorship_tag": "ABX9TyMHPTVh4yCtyRcr4QLDbQOB",
   "include_colab_link": true,
   "provenance": []
  },
  "kernelspec": {
   "display_name": "Python 3 (ipykernel)",
   "language": "python",
   "name": "python3"
  },
  "language_info": {
   "codemirror_mode": {
    "name": "ipython",
    "version": 3
   },
   "file_extension": ".py",
   "mimetype": "text/x-python",
   "name": "python",
   "nbconvert_exporter": "python",
   "pygments_lexer": "ipython3",
   "version": "3.10.4"
  }
 },
 "nbformat": 4,
 "nbformat_minor": 4
}
