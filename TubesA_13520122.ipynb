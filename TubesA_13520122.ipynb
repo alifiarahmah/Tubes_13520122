{
  "nbformat": 4,
  "nbformat_minor": 0,
  "metadata": {
    "colab": {
      "provenance": [],
      "authorship_tag": "ABX9TyMHPTVh4yCtyRcr4QLDbQOB",
      "include_colab_link": true
    },
    "kernelspec": {
      "name": "python3",
      "display_name": "Python 3"
    },
    "language_info": {
      "name": "python"
    }
  },
  "cells": [
    {
      "cell_type": "markdown",
      "metadata": {
        "id": "view-in-github",
        "colab_type": "text"
      },
      "source": [
        "<a href=\"https://colab.research.google.com/github/alifiarahmah/TubesA_13520122/blob/master/TubesA_13520122.ipynb\" target=\"_parent\"><img src=\"https://colab.research.google.com/assets/colab-badge.svg\" alt=\"Open In Colab\"/></a>"
      ]
    },
    {
      "cell_type": "markdown",
      "source": [
        "# Tugas Besar IF3270 Pembelajaran Mesin\n",
        "## Bagian A: Implementasi Forward Propagation untuk Feed Forward Neural Network\n",
        "\n",
        "Anggota kelompok:\n",
        "\n",
        "1. Christine Hutabarat (13520005)\n",
        "2. Hana Fathiyah (13520047)\n",
        "3. Yohana Golkaria Nainggolan (13520053)r\n",
        "4. Alifia Rahmah (13520122)\n",
        "\n"
      ],
      "metadata": {
        "id": "149jvg2_f_WJ"
      }
    },
    {
      "cell_type": "markdown",
      "source": [
        "## 1. Perancangan struktur file eksternal untuk penyimpanan model"
      ],
      "metadata": {
        "id": "fCnZdnv7gaQw"
      }
    },
    {
      "cell_type": "markdown",
      "source": [
        "Struktur file:\n",
        "```\n",
        "<jumlah layer>\n",
        "<jumlah neuron layer 1> <linear/relu/sigmoid/softmax>\n",
        "<jumlah neuron layer 2> <linear/relu/sigmoid/softmax>\n",
        "...\n",
        "<jumlah neuron layer n> <linear/relu/sigmoid/softmax>\n",
        "```\n",
        "\n",
        "Contoh:\n",
        "```\n",
        "3\n",
        "1 linear\n",
        "5 sigmoid\n",
        "2 relu\n",
        "```\n",
        "\n",
        "```\n",
        "2\n",
        "1 linear\n",
        "2 sigmoid\n",
        "```"
      ],
      "metadata": {
        "id": "HjZBPs_jg8_Q"
      }
    },
    {
      "cell_type": "markdown",
      "source": [
        "### Deklarasi kelas Neuron, Layer, dan Model"
      ],
      "metadata": {
        "id": "aizwkGcoODif"
      }
    },
    {
      "cell_type": "code",
      "source": [
        "class Neuron:\n",
        "  def __init__(self, weight=0, id=''):\n",
        "    self.weight = weight\n",
        "    self.id = id\n",
        "\n",
        "  def update_weight(self, new_weight):\n",
        "    self.weight = new_weight\n",
        "\n",
        "  def __str__(self):\n",
        "    return f'<{self.id} = {self.weight}>'\n",
        "\n",
        "class Layer:\n",
        "  # id: number (0, 1, 2, ...)\n",
        "  # activation: linear | relu | sigmoid | softmax\n",
        "  # neurons: Neuron[]\n",
        "  \n",
        "  def __init__(self, activation, id=0):\n",
        "    self.activation = activation\n",
        "    self.id = id\n",
        "    self.neurons = []\n",
        "\n",
        "  def __str__(self):\n",
        "    s = f'''layer {self.id}\n",
        "  activation: {self.activation}\n",
        "  neuron count: {len(self.neurons)}\n",
        "  neurons:'''\n",
        "    for n in self.neurons:\n",
        "      s += str(n)\n",
        "    return s\n",
        "\n",
        "  def add_neuron(self):\n",
        "    self.neurons.append(Neuron(id=f'f{self.id}{len(self.neurons)+1}'))\n",
        "\n",
        "class Model:\n",
        "  # layers: Layer[]\n",
        "\n",
        "  def __init__(self):\n",
        "    self.layers = []\n",
        "\n",
        "  def __init__(self, filename):\n",
        "    f = open(filename)\n",
        "    layercount = int(f.readline().strip())\n",
        "    for i in range(layercount):\n",
        "      self.add_layer(i)\n",
        "    for line in f:\n",
        "      print(line.strip().split(' '))\n",
        "    for l in layers:\n",
        "      l[0] = int(l[0])\n",
        "    return layercount, layers\n",
        "\n",
        "  def __str__(self):\n",
        "    s = ''\n",
        "    for layer in self.layers:\n",
        "      s += str(layer)\n",
        "      s += '\\n'\n",
        "    return s\n",
        "\n",
        "  def add_layer(self, activation, id):\n",
        "    self.layers.append(Layer(activation, id))\n",
        "\n",
        "  def add_neuron(self, layer_id):\n",
        "    self.layers[layer_id].add_neuron()"
      ],
      "metadata": {
        "colab": {
          "base_uri": "https://localhost:8080/"
        },
        "id": "SnGWEcECOGKy",
        "outputId": "e0264d37-8dc0-4c1a-dbdd-afa3dc8a38a8"
      },
      "execution_count": null,
      "outputs": [
        {
          "output_type": "stream",
          "name": "stdout",
          "text": [
            "layer 0\n",
            "  activation: linear\n",
            "  neuron count: 2\n",
            "  neurons:<f01 = 0><f02 = 5>\n",
            "layer 1\n",
            "  activation: relu\n",
            "  neuron count: 1\n",
            "  neurons:<f11 = 0>\n",
            "\n"
          ]
        }
      ]
    },
    {
      "cell_type": "code",
      "source": [
        "m = Model()\n",
        "m.add_layer('linear', 0)\n",
        "m.add_neuron(0)\n",
        "m.add_layer('relu', 1)\n",
        "m.add_neuron(0)\n",
        "m.add_neuron(1)\n",
        "m.layers[0].neurons[1].update_weight(5)\n",
        "print(m)"
      ],
      "metadata": {
        "id": "jgsq91N2A2AV"
      },
      "execution_count": null,
      "outputs": []
    },
    {
      "cell_type": "markdown",
      "source": [
        "## 2. Implementasi load dari file teks"
      ],
      "metadata": {
        "id": "bTi0PUUagfAF"
      }
    },
    {
      "cell_type": "code",
      "source": [
        "file = open(\"sample.txt\", 'w')\n",
        "file.write(\"3\\n2 linear\\n5 sigmoid\\n3 relu\")\n",
        "file.close()"
      ],
      "metadata": {
        "id": "9vVi8-yLjvRG"
      },
      "execution_count": null,
      "outputs": []
    },
    {
      "cell_type": "code",
      "source": [
        "def load_file(filename):\n",
        "  f = open(filename)\n",
        "  layercount = int(f.readline().strip())\n",
        "  layers = []\n",
        "  for line in f:\n",
        "    layers.append(line.strip().split(' '))\n",
        "  for l in layers:\n",
        "    l[0] = int(l[0])\n",
        "  return layercount, layers"
      ],
      "metadata": {
        "id": "7RWLAHcniQ0j"
      },
      "execution_count": null,
      "outputs": []
    },
    {
      "cell_type": "code",
      "source": [
        "layercount, layers = load_file(\"sample.txt\")\n",
        "print(layercount)\n",
        "print(layers)"
      ],
      "metadata": {
        "colab": {
          "base_uri": "https://localhost:8080/"
        },
        "id": "_movlBajlaUU",
        "outputId": "b391cbe7-2c4c-47ff-d44a-0a3c07431f6f"
      },
      "execution_count": null,
      "outputs": [
        {
          "output_type": "stream",
          "name": "stdout",
          "text": [
            "3\n",
            "[[2, 'linear'], [5, 'sigmoid'], [3, 'relu']]\n"
          ]
        }
      ]
    },
    {
      "cell_type": "markdown",
      "source": [
        "## 3. Implementasi forward propagation"
      ],
      "metadata": {
        "id": "tUWSWgWMgrno"
      }
    },
    {
      "cell_type": "markdown",
      "source": [
        "### a. Menampilkan struktur jaringan"
      ],
      "metadata": {
        "id": "YezarRz1nWGL"
      }
    },
    {
      "cell_type": "code",
      "source": [
        "def draw_compact_structure(layers):\n",
        "  print(f'x({layers[0][0]})\\t= {layers[0][1]}')\n",
        "  print(' ↓ ')\n",
        "  for i in range(1, len(layers)-1):\n",
        "    print(f'h{i}({layers[i][0]})\\t= {layers[i][1]}')\n",
        "    print(' ↓ ')\n",
        "  print(f'y({layers[i+1][0]})\\t= {layers[i+1][1]}')"
      ],
      "metadata": {
        "id": "JbxBBSeKnZ3D"
      },
      "execution_count": null,
      "outputs": []
    },
    {
      "cell_type": "code",
      "source": [
        "draw_compact_structure(layers)"
      ],
      "metadata": {
        "colab": {
          "base_uri": "https://localhost:8080/"
        },
        "id": "s8kXFi3ftXDN",
        "outputId": "e2ceebbb-ce2d-4003-a048-743bbd2cec3d"
      },
      "execution_count": null,
      "outputs": [
        {
          "output_type": "stream",
          "name": "stdout",
          "text": [
            "x(2)\t= linear\n",
            " ↓ \n",
            "h1(5)\t= sigmoid\n",
            " ↓ \n",
            "y(3)\t= relu\n"
          ]
        }
      ]
    },
    {
      "cell_type": "code",
      "source": [
        "import networkx as nx\n",
        "import matplotlib.pyplot as plt\n",
        "\n",
        "def draw_structure(layers):\n",
        "  G = nx.Graph()\n",
        "\n",
        "  # input\n",
        "  for i in range(layers[0][0]+1): # neuron+bias\n",
        "    G.add_node(f'x{i}', pos=(1, i+1)) # x1, x2, ...\n",
        "\n",
        "  # hidden\n",
        "  for i in range(1, len(layers)-1): # layer+bias\n",
        "    for j in range(layers[i][0]+1): # neuron+bias\n",
        "      G.add_node(f'h{i}{j}', pos=(i+1, j+1)) # hi0, hi1, .., hij\n",
        "      for k in range(layers[i-1][0]+1):\n",
        "        G.add_edge(f'x{k}', f'h{i}{j}')\n",
        "\n",
        "  # output\n",
        "  for i in range(layers[-1][0]): # neuron+bias\n",
        "    for j in range(layers[-2][0]+1): # last hidden layer\n",
        "      G.add_node(f'o{i+1}', pos=(len(layers), i+1))\n",
        "      G.add_edge(f'h{len(layers)-2}{j}', f'o{i+1}')\n",
        "\n",
        "  pos = nx.get_node_attributes(G, 'pos')\n",
        "  fig, ax = plt.subplots()\n",
        "  nx.draw_networkx_nodes(G, pos, ax=ax, node_size=1000)\n",
        "  nx.draw_networkx_edges(G, pos, ax=ax)\n",
        "  labels = {n: n for n in G.nodes()}\n",
        "  nx.draw_networkx_labels(G, pos, labels, font_color='white', ax=ax)\n",
        "  ax.set_xticks([])\n",
        "  ax.set_yticks([])\n",
        "\n",
        "  plt.show()"
      ],
      "metadata": {
        "id": "ljie_uapuoiV"
      },
      "execution_count": null,
      "outputs": []
    },
    {
      "cell_type": "code",
      "source": [
        "draw_structure(layers)"
      ],
      "metadata": {
        "colab": {
          "base_uri": "https://localhost:8080/",
          "height": 248
        },
        "id": "Y7dPHPUrTHCO",
        "outputId": "1a6df9da-6997-42ee-b203-173e6713d5bf"
      },
      "execution_count": null,
      "outputs": [
        {
          "output_type": "display_data",
          "data": {
            "text/plain": [
              "<Figure size 432x288 with 1 Axes>"
            ],
            "image/png": "[encoded data removed]"
          },
          "metadata": {}
        }
      ]
    },
    {
      "cell_type": "markdown",
      "source": [
        "### b. Memprediksi output untuk input 1 instance"
      ],
      "metadata": {
        "id": "F9dJf0RzsCZe"
      }
    },
    {
      "cell_type": "code",
      "source": [
        "# Helper function\n",
        "from math import exp\n",
        "\n",
        "# net -> persamaan linear (ax+b+...)\n",
        "\n",
        "def linear(net):\n",
        "  return net\n",
        "\n",
        "def relu(net):\n",
        "  return max(0, net)\n",
        "\n",
        "def sigmoid(net):\n",
        "  return 1/(1 + exp(net * -1))\n",
        "\n",
        "def softmax(net_i, arr_net):\n",
        "  net_sum = 0\n",
        "  for i in arr_net:\n",
        "    net_sum += i\n",
        "  return (exp(net_i))/net_sum"
      ],
      "metadata": {
        "id": "SrfG_KsHmTUj"
      },
      "execution_count": null,
      "outputs": []
    },
    {
      "cell_type": "code",
      "source": [
        "a = 5\n",
        "sigmoid(5*a+1)"
      ],
      "metadata": {
        "id": "uNWoMl9iT1_l",
        "colab": {
          "base_uri": "https://localhost:8080/"
        },
        "outputId": "570c8b60-fe76-45e9-b9f6-7419daacf338"
      },
      "execution_count": null,
      "outputs": [
        {
          "output_type": "execute_result",
          "data": {
            "text/plain": [
              "0.999999999994891"
            ]
          },
          "metadata": {},
          "execution_count": 16
        }
      ]
    },
    {
      "cell_type": "markdown",
      "source": [
        "c. Memprediksi output untuk input batch sejumlah instances"
      ],
      "metadata": {
        "id": "cpvGLnizsFy2"
      }
    },
    {
      "cell_type": "code",
      "source": [],
      "metadata": {
        "id": "2gHGMHlVvfI3"
      },
      "execution_count": null,
      "outputs": []
    },
    {
      "cell_type": "markdown",
      "source": [
        "## 4. Pengujian kebenaran fungsional"
      ],
      "metadata": {
        "id": "wxk-phT5gxDR"
      }
    },
    {
      "cell_type": "markdown",
      "source": [
        "## 5. Deliverables"
      ],
      "metadata": {
        "id": "0jX_zUM_g1sg"
      }
    },
    {
      "cell_type": "markdown",
      "source": [
        "### a. Source Code"
      ],
      "metadata": {
        "id": "LdmKBkVHg3yp"
      }
    }
  ]
}