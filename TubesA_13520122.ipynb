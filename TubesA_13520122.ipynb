{
 "cells": [
  {
   "cell_type": "markdown",
   "metadata": {
    "id": "149jvg2_f_WJ"
   },
   "source": [
    "# Tugas Besar IF3270 Pembelajaran Mesin\n",
    "## Bagian A: Implementasi Forward Propagation untuk Feed Forward Neural Network\n",
    "\n",
    "Anggota kelompok:\n",
    "\n",
    "1. Christine Hutabarat (13520005)\n",
    "2. Hana Fathiyah (13520047)\n",
    "3. Yohana Golkaria Nainggolan (13520053)\n",
    "4. Alifia Rahmah (13520122)\n",
    "\n"
   ]
  },
  {
   "cell_type": "markdown",
   "metadata": {
    "id": "fCnZdnv7gaQw"
   },
   "source": [
    "## 1. Perancangan struktur file eksternal untuk penyimpanan model"
   ]
  },
  {
   "cell_type": "markdown",
   "metadata": {
    "id": "HjZBPs_jg8_Q"
   },
   "source": [
    "Struktur file:\n",
    "```\n",
    "<jumlah layer>\n",
    "<jumlah neuron layer 1> <linear/relu/sigmoid/softmax>\n",
    "<jumlah neuron layer 2> <linear/relu/sigmoid/softmax>\n",
    "...\n",
    "<jumlah neuron layer n> <linear/relu/sigmoid/softmax>\n",
    "<initial weight layer 1>\n",
    "```\n",
    "\n",
    "Contoh:\n",
    "```\n",
    "3\n",
    "1 linear\n",
    "5 sigmoid\n",
    "2 relu\n",
    "15\n",
    "```\n",
    "\n",
    "```\n",
    "2\n",
    "2 linear\n",
    "1 sigmoid\n",
    "3 5\n",
    "```"
   ]
  },
  {
   "cell_type": "markdown",
   "metadata": {
    "id": "aizwkGcoODif"
   },
   "source": [
    "### Deklarasi kelas Neuron, Layer, dan Model (WIP_"
   ]
  },
  {
   "cell_type": "code",
   "execution_count": 12,
   "metadata": {
    "colab": {
     "base_uri": "https://localhost:8080/"
    },
    "id": "SnGWEcECOGKy",
    "outputId": "e0264d37-8dc0-4c1a-dbdd-afa3dc8a38a8"
   },
   "outputs": [],
   "source": [
    "class Neuron:\n",
    "  def __init__(self, weight=0, id=''):\n",
    "    self.weight = weight\n",
    "    self.id = id\n",
    "\n",
    "  def update_weight(self, new_weight):\n",
    "    self.weight = new_weight\n",
    "\n",
    "  def __str__(self):\n",
    "    return f'<{self.id} = {self.weight}>'\n",
    "\n",
    "class Layer:\n",
    "  # id: number (0, 1, 2, ...)\n",
    "  # activation: linear | relu | sigmoid | softmax\n",
    "  # neurons: Neuron[]\n",
    "  \n",
    "  def __init__(self, activation, id=0):\n",
    "    self.activation = activation\n",
    "    self.id = id\n",
    "    self.neurons = []\n",
    "\n",
    "  def __str__(self):\n",
    "    s = f'''layer {self.id}\n",
    "  activation: {self.activation}\n",
    "  neuron count: {len(self.neurons)}\n",
    "  neurons:'''\n",
    "    for n in self.neurons:\n",
    "      s += str(n)\n",
    "    return s\n",
    "\n",
    "  def add_neuron(self):\n",
    "    self.neurons.append(Neuron(id=f'f{self.id}{len(self.neurons)+1}'))\n",
    "\n",
    "class Model:\n",
    "  # layers: Layer[]\n",
    "\n",
    "  def __init__(self):\n",
    "    self.layers = []\n",
    "\n",
    "  def __str__(self):\n",
    "    s = ''\n",
    "    for layer in self.layers:\n",
    "      s += str(layer)\n",
    "      s += '\\n'\n",
    "    return s\n",
    "\n",
    "  def add_layer(self, activation, id):\n",
    "    self.layers.append(Layer(activation, id))\n",
    "\n",
    "  def add_neuron(self, layer_id):\n",
    "    self.layers[layer_id].add_neuron()"
   ]
  },
  {
   "cell_type": "code",
   "execution_count": 13,
   "metadata": {
    "id": "jgsq91N2A2AV"
   },
   "outputs": [
    {
     "name": "stdout",
     "output_type": "stream",
     "text": [
      "layer 0\n",
      "  activation: linear\n",
      "  neuron count: 2\n",
      "  neurons:<f01 = 0><f02 = 5>\n",
      "layer 1\n",
      "  activation: relu\n",
      "  neuron count: 1\n",
      "  neurons:<f11 = 0>\n",
      "\n"
     ]
    }
   ],
   "source": [
    "m = Model()\n",
    "m.add_layer('linear', 0)\n",
    "m.add_neuron(0)\n",
    "m.add_layer('relu', 1)\n",
    "m.add_neuron(0)\n",
    "m.add_neuron(1)\n",
    "m.layers[0].neurons[1].update_weight(5)\n",
    "print(m)"
   ]
  },
  {
   "cell_type": "markdown",
   "metadata": {
    "id": "bTi0PUUagfAF"
   },
   "source": [
    "## 2. Implementasi load dari file teks"
   ]
  },
  {
   "cell_type": "code",
   "execution_count": 17,
   "metadata": {
    "id": "9vVi8-yLjvRG"
   },
   "outputs": [],
   "source": [
    "file = open(\"sample.txt\", 'w')\n",
    "file.write('''3\n",
    "1 linear\n",
    "5 sigmoid\n",
    "2 relu\n",
    "15''')\n",
    "file.close()"
   ]
  },
  {
   "cell_type": "code",
   "execution_count": 31,
   "metadata": {
    "id": "7RWLAHcniQ0j"
   },
   "outputs": [],
   "source": [
    "def load_file(filename):\n",
    "  f = open(filename)\n",
    "  layercount = int(f.readline().strip())\n",
    "  layers = []\n",
    "  initweight = []\n",
    "  for line in f:\n",
    "    layers.append(line.strip().split(' '))\n",
    "  initweight = list(map(int,layers.pop())))\n",
    "  for l in layers:\n",
    "    l[0] = int(l[0])\n",
    "  return layercount, layers, initweight"
   ]
  },
  {
   "cell_type": "code",
   "execution_count": 32,
   "metadata": {
    "colab": {
     "base_uri": "https://localhost:8080/"
    },
    "id": "_movlBajlaUU",
    "outputId": "b391cbe7-2c4c-47ff-d44a-0a3c07431f6f"
   },
   "outputs": [
    {
     "ename": "TypeError",
     "evalue": "int() argument must be a string, a bytes-like object or a real number, not 'list'",
     "output_type": "error",
     "traceback": [
      "\u001b[1;31m---------------------------------------------------------------------------\u001b[0m",
      "\u001b[1;31mTypeError\u001b[0m                                 Traceback (most recent call last)",
      "Input \u001b[1;32mIn [32]\u001b[0m, in \u001b[0;36m<cell line: 1>\u001b[1;34m()\u001b[0m\n\u001b[1;32m----> 1\u001b[0m layercount, layers, initweight \u001b[38;5;241m=\u001b[39m \u001b[43mload_file\u001b[49m\u001b[43m(\u001b[49m\u001b[38;5;124;43m\"\u001b[39;49m\u001b[38;5;124;43msample.txt\u001b[39;49m\u001b[38;5;124;43m\"\u001b[39;49m\u001b[43m)\u001b[49m\n\u001b[0;32m      2\u001b[0m \u001b[38;5;28mprint\u001b[39m(layercount)\n\u001b[0;32m      3\u001b[0m \u001b[38;5;28mprint\u001b[39m(layers)\n",
      "Input \u001b[1;32mIn [31]\u001b[0m, in \u001b[0;36mload_file\u001b[1;34m(filename)\u001b[0m\n\u001b[0;32m      6\u001b[0m \u001b[38;5;28;01mfor\u001b[39;00m line \u001b[38;5;129;01min\u001b[39;00m f:\n\u001b[0;32m      7\u001b[0m   layers\u001b[38;5;241m.\u001b[39mappend(line\u001b[38;5;241m.\u001b[39mstrip()\u001b[38;5;241m.\u001b[39msplit(\u001b[38;5;124m'\u001b[39m\u001b[38;5;124m \u001b[39m\u001b[38;5;124m'\u001b[39m))\n\u001b[1;32m----> 8\u001b[0m initweight \u001b[38;5;241m=\u001b[39m \u001b[38;5;28mlist\u001b[39m(\u001b[38;5;28mmap\u001b[39m(\u001b[38;5;28;43mint\u001b[39;49m\u001b[43m(\u001b[49m\u001b[43mlayers\u001b[49m\u001b[38;5;241;43m.\u001b[39;49m\u001b[43mpop\u001b[49m\u001b[43m(\u001b[49m\u001b[43m)\u001b[49m\u001b[43m)\u001b[49m))\n\u001b[0;32m      9\u001b[0m \u001b[38;5;28;01mfor\u001b[39;00m l \u001b[38;5;129;01min\u001b[39;00m layers:\n\u001b[0;32m     10\u001b[0m   l[\u001b[38;5;241m0\u001b[39m] \u001b[38;5;241m=\u001b[39m \u001b[38;5;28mint\u001b[39m(l[\u001b[38;5;241m0\u001b[39m])\n",
      "\u001b[1;31mTypeError\u001b[0m: int() argument must be a string, a bytes-like object or a real number, not 'list'"
     ]
    }
   ],
   "source": [
    "layercount, layers, initweight = load_file(\"sample.txt\")\n",
    "print(layercount)\n",
    "print(layers)\n",
    "print(initweight)"
   ]
  },
  {
   "cell_type": "markdown",
   "metadata": {
    "id": "tUWSWgWMgrno"
   },
   "source": [
    "## 3. Implementasi forward propagation"
   ]
  },
  {
   "cell_type": "markdown",
   "metadata": {
    "id": "YezarRz1nWGL"
   },
   "source": [
    "### a. Menampilkan struktur jaringan"
   ]
  },
  {
   "cell_type": "code",
   "execution_count": 6,
   "metadata": {
    "id": "JbxBBSeKnZ3D"
   },
   "outputs": [],
   "source": [
    "def draw_compact_structure(layers):\n",
    "  print(f'x({layers[0][0]})\\t= {layers[0][1]}')\n",
    "  print(' ↓ ')\n",
    "  for i in range(1, len(layers)-1):\n",
    "    print(f'h{i}({layers[i][0]})\\t= {layers[i][1]}')\n",
    "    print(' ↓ ')\n",
    "  print(f'y({layers[i+1][0]})\\t= {layers[i+1][1]}')"
   ]
  },
  {
   "cell_type": "code",
   "execution_count": 7,
   "metadata": {
    "colab": {
     "base_uri": "https://localhost:8080/"
    },
    "id": "s8kXFi3ftXDN",
    "outputId": "e2ceebbb-ce2d-4003-a048-743bbd2cec3d"
   },
   "outputs": [
    {
     "name": "stdout",
     "output_type": "stream",
     "text": [
      "x(2)\t= linear\n",
      " ↓ \n",
      "h1(5)\t= sigmoid\n",
      " ↓ \n",
      "y(3)\t= relu\n"
     ]
    }
   ],
   "source": [
    "draw_compact_structure(layers)"
   ]
  },
  {
   "cell_type": "code",
   "execution_count": 14,
   "metadata": {
    "id": "ljie_uapuoiV"
   },
   "outputs": [],
   "source": [
    "import networkx as nx\n",
    "import matplotlib.pyplot as plt\n",
    "\n",
    "def draw_structure(layers):\n",
    "  G = nx.Graph()\n",
    "\n",
    "  # input\n",
    "  for i in range(layers[0][0]+1): # neuron+bias\n",
    "    G.add_node(f'x{i}', pos=(1, i+1)) # x1, x2, ...\n",
    "\n",
    "  # hidden\n",
    "  for i in range(1, len(layers)-1): # layer+bias\n",
    "    for j in range(layers[i][0]+1): # neuron+bias\n",
    "      G.add_node(f'h{i}{j}', pos=(i+1, j+1)) # hi0, hi1, .., hij\n",
    "      for k in range(layers[i-1][0]+1):\n",
    "        G.add_edge(f'x{k}', f'h{i}{j}')\n",
    "\n",
    "  # output\n",
    "  for i in range(layers[-1][0]): # neuron+bias\n",
    "    for j in range(layers[-2][0]+1): # last hidden layer\n",
    "      G.add_node(f'o{i+1}', pos=(len(layers), i+1))\n",
    "      G.add_edge(f'h{len(layers)-2}{j}', f'o{i+1}')\n",
    "\n",
    "  pos = nx.get_node_attributes(G, 'pos')\n",
    "  fig, ax = plt.subplots()\n",
    "  nx.draw_networkx_nodes(G, pos, ax=ax, node_size=1000)\n",
    "  nx.draw_networkx_edges(G, pos, ax=ax)\n",
    "  labels = {n: n for n in G.nodes()}\n",
    "  nx.draw_networkx_labels(G, pos, labels, font_color='white', ax=ax)\n",
    "  ax.set_xticks([])\n",
    "  ax.set_yticks([])\n",
    "\n",
    "  plt.show()"
   ]
  },
  {
   "cell_type": "code",
   "execution_count": 15,
   "metadata": {
    "colab": {
     "base_uri": "https://localhost:8080/",
     "height": 248
    },
    "id": "Y7dPHPUrTHCO",
    "outputId": "1a6df9da-6997-42ee-b203-173e6713d5bf"
   },
   "outputs": [
    {
     "data": {
      "image/png": "[encoded data removed]",
      "text/plain": [
       "<Figure size 432x288 with 1 Axes>"
      ]
     },
     "metadata": {},
     "output_type": "display_data"
    }
   ],
   "source": [
    "draw_structure(layers)"
   ]
  },
  {
   "cell_type": "markdown",
   "metadata": {
    "id": "F9dJf0RzsCZe"
   },
   "source": [
    "### b. Memprediksi output untuk input 1 instance"
   ]
  },
  {
   "cell_type": "code",
   "execution_count": 10,
   "metadata": {
    "id": "SrfG_KsHmTUj"
   },
   "outputs": [],
   "source": [
    "# Helper function\n",
    "from math import exp\n",
    "\n",
    "# net -> persamaan linear (ax+b+...)\n",
    "\n",
    "def linear(net):\n",
    "  return net\n",
    "\n",
    "def relu(net):\n",
    "  return max(0, net)\n",
    "\n",
    "def sigmoid(net):\n",
    "  return 1/(1 + exp(net * -1))\n",
    "\n",
    "def softmax(net_i, arr_net):\n",
    "  net_sum = 0\n",
    "  for i in arr_net:\n",
    "    net_sum += i\n",
    "  return (exp(net_i))/net_sum"
   ]
  },
  {
   "cell_type": "code",
   "execution_count": 11,
   "metadata": {
    "colab": {
     "base_uri": "https://localhost:8080/"
    },
    "id": "uNWoMl9iT1_l",
    "outputId": "570c8b60-fe76-45e9-b9f6-7419daacf338"
   },
   "outputs": [
    {
     "data": {
      "text/plain": [
       "0.999999999994891"
      ]
     },
     "execution_count": 11,
     "metadata": {},
     "output_type": "execute_result"
    }
   ],
   "source": [
    "a = 5\n",
    "sigmoid(5*a+1)"
   ]
  },
  {
   "cell_type": "markdown",
   "metadata": {
    "id": "cpvGLnizsFy2"
   },
   "source": [
    "c. Memprediksi output untuk input batch sejumlah instances"
   ]
  },
  {
   "cell_type": "code",
   "execution_count": null,
   "metadata": {
    "id": "2gHGMHlVvfI3"
   },
   "outputs": [],
   "source": []
  },
  {
   "cell_type": "markdown",
   "metadata": {
    "id": "wxk-phT5gxDR"
   },
   "source": [
    "## 4. Pengujian kebenaran fungsional"
   ]
  }
 ],
 "metadata": {
  "colab": {
   "authorship_tag": "ABX9TyMHPTVh4yCtyRcr4QLDbQOB",
   "include_colab_link": true,
   "provenance": []
  },
  "kernelspec": {
   "display_name": "Python 3 (ipykernel)",
   "language": "python",
   "name": "python3"
  },
  "language_info": {
   "codemirror_mode": {
    "name": "ipython",
    "version": 3
   },
   "file_extension": ".py",
   "mimetype": "text/x-python",
   "name": "python",
   "nbconvert_exporter": "python",
   "pygments_lexer": "ipython3",
   "version": "3.10.9"
  }
 },
 "nbformat": 4,
 "nbformat_minor": 4
}
