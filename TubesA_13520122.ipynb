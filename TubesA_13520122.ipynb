{
 "cells": [
  {
   "cell_type": "markdown",
   "metadata": {
    "id": "149jvg2_f_WJ"
   },
   "source": [
    "# Tugas Besar IF3270 Pembelajaran Mesin\n",
    "## Bagian A: Implementasi Forward Propagation untuk Feed Forward Neural Network\n",
    "\n",
    "Anggota kelompok:\n",
    "\n",
    "1. Christine Hutabarat (13520005)\n",
    "2. Hana Fathiyah (13520047)\n",
    "3. Yohana Golkaria Nainggolan (13520053)\n",
    "4. Alifia Rahmah (13520122)\n",
    "\n"
   ]
  },
  {
   "cell_type": "markdown",
   "metadata": {
    "id": "fCnZdnv7gaQw"
   },
   "source": [
    "## 1. Perancangan struktur file eksternal untuk penyimpanan model"
   ]
  },
  {
   "cell_type": "markdown",
   "metadata": {
    "id": "HjZBPs_jg8_Q"
   },
   "source": [
    "Struktur file:\n",
    "```\n",
    "<jumlah layer>\n",
    "<jumlah neuron layer 1> <linear/relu/sigmoid/softmax>\n",
    "<jumlah neuron layer 2> <linear/relu/sigmoid/softmax>\n",
    "...\n",
    "<jumlah neuron layer n> <linear/relu/sigmoid/softmax>\n",
    "<initial weight layer 1>\n",
    "```\n",
    "\n",
    "Contoh:\n",
    "```\n",
    "3\n",
    "1 linear\n",
    "5 sigmoid\n",
    "2 relu\n",
    "15\n",
    "```\n",
    "\n",
    "```\n",
    "2\n",
    "2 linear\n",
    "1 sigmoid\n",
    "3 5\n",
    "```"
   ]
  },
  {
   "cell_type": "markdown",
   "metadata": {
    "id": "aizwkGcoODif"
   },
   "source": [
    "### Deklarasi kelas Neuron, Layer, dan Model (WIP_"
   ]
  },
  {
   "cell_type": "code",
   "execution_count": 3,
   "metadata": {
    "colab": {
     "base_uri": "https://localhost:8080/"
    },
    "id": "SnGWEcECOGKy",
    "outputId": "e0264d37-8dc0-4c1a-dbdd-afa3dc8a38a8"
   },
   "outputs": [],
   "source": [
    "class Neuron:\n",
    "  # value: float\n",
    "  # id: string (format: f<layer_id><neuron_id> (ex: f01, f11, f21, ...))\n",
    "  # children: dict (key: neuron_id, value: weight)\n",
    "\n",
    "  def __init__(self, value=0, id=''):\n",
    "    self.value = value\n",
    "    self.id = id\n",
    "    self.children = dict()\n",
    "\n",
    "  def update_value(self, new_value):\n",
    "    self.value = new_value\n",
    "\n",
    "  def __str__(self):\n",
    "    return f'<{self.id} = {self.value}>\\n'\n",
    "  \n",
    "  def update_children(self, neuron_id, weight):\n",
    "    self.children.update({neuron_id: weight})\n",
    "\n",
    "\n",
    "class Layer:\n",
    "  # id: number (0, 1, 2, ...)\n",
    "  # activation: linear | relu | sigmoid | softmax\n",
    "  # neurons: Neuron[]\n",
    "  \n",
    "  def __init__(self, activation, id=0):\n",
    "    self.activation = activation\n",
    "    self.id = id\n",
    "    self.neurons = []\n",
    "\n",
    "  def __str__(self):\n",
    "    s = f'''layer {self.id}\n",
    "  activation: {self.activation.__name__}\n",
    "  neuron count: {len(self.neurons)}\n",
    "  neurons:\\n'''\n",
    "    for n in self.neurons:\n",
    "      s += '    '\n",
    "      s += str(n)\n",
    "    return s\n",
    "\n",
    "  def add_neuron(self):\n",
    "    self.neurons.append(Neuron(id=f'f{self.id}{len(self.neurons)+1}'))\n",
    "\n",
    "\n",
    "class Model:\n",
    "  # layers: Layer[]\n",
    "\n",
    "  def __init__(self):\n",
    "    self.layers = []\n",
    "\n",
    "  def __str__(self):\n",
    "    s = ''\n",
    "    for layer in self.layers:\n",
    "      s += str(layer)\n",
    "      s += '\\n'\n",
    "    return s\n",
    "\n",
    "  def add_layer(self, activation, id):\n",
    "    self.layers.append(Layer(activation, id))\n",
    "\n",
    "  def add_neuron(self, layer_id):\n",
    "    self.layers[layer_id].add_neuron()\n",
    "\n",
    "    # update network\n",
    "    if (layer_id > 0):\n",
    "      prev_layer = self.layers[layer_id-1]\n",
    "      for neuron in prev_layer.neurons:\n",
    "        neuron.update_children(self.layers[layer_id].neurons[-1].id, 0)\n",
    "\n",
    "  def forward_propagation(self):\n",
    "    # TODO: add bias\n",
    "    for i in range (1, len(self.layers)):\n",
    "      for neuron in self.layers[i].neurons:\n",
    "        net = 0\n",
    "        prev_layer = self.layers[i-1]\n",
    "        activation = self.layers[i].activation\n",
    "        for prev_neuron in prev_layer.neurons:\n",
    "          net += prev_neuron.value * prev_neuron.children[neuron.id]\n",
    "        neuron.update_value(activation(net))\n",
    "        \n"
   ]
  },
  {
   "cell_type": "code",
   "execution_count": 4,
   "metadata": {},
   "outputs": [],
   "source": [
    "# Helper function\n",
    "from math import exp\n",
    "\n",
    "# net -> persamaan linear (ax+b+...)\n",
    "\n",
    "def linear(net):\n",
    "  return net\n",
    "\n",
    "def relu(net):\n",
    "  return max(0, net)\n",
    "\n",
    "def sigmoid(net):\n",
    "  return 1/(1 + exp(net * -1))\n",
    "\n",
    "def softmax(net_i, arr_net):\n",
    "  net_sum = 0\n",
    "  for i in arr_net:\n",
    "    net_sum += i\n",
    "  return (exp(net_i))/net_sum"
   ]
  },
  {
   "cell_type": "code",
   "execution_count": 5,
   "metadata": {
    "id": "jgsq91N2A2AV"
   },
   "outputs": [
    {
     "name": "stdout",
     "output_type": "stream",
     "text": [
      "layer 0\n",
      "  activation: linear\n",
      "  neuron count: 2\n",
      "  neurons:\n",
      "    <f01 = 0>\n",
      "    <f02 = 0>\n",
      "\n",
      "layer 1\n",
      "  activation: relu\n",
      "  neuron count: 2\n",
      "  neurons:\n",
      "    <f11 = 0>\n",
      "    <f12 = 0>\n",
      "\n",
      "\n"
     ]
    }
   ],
   "source": [
    "m = Model()\n",
    "m.add_layer(linear, 0)\n",
    "m.add_neuron(0)\n",
    "m.add_layer(relu, 1)\n",
    "m.add_neuron(0)\n",
    "m.add_neuron(1)\n",
    "m.add_neuron(1)\n",
    "print(m)"
   ]
  },
  {
   "cell_type": "markdown",
   "metadata": {
    "id": "bTi0PUUagfAF"
   },
   "source": [
    "## 2. Implementasi load dari file teks"
   ]
  },
  {
   "cell_type": "code",
   "execution_count": 6,
   "metadata": {
    "id": "9vVi8-yLjvRG"
   },
   "outputs": [],
   "source": [
    "file = open(\"sample.txt\", 'w')\n",
    "file.write('''3\n",
    "1 linear\n",
    "5 sigmoid\n",
    "2 relu\n",
    "15''')\n",
    "file.close()"
   ]
  },
  {
   "cell_type": "code",
   "execution_count": 7,
   "metadata": {
    "id": "7RWLAHcniQ0j"
   },
   "outputs": [],
   "source": [
    "def load_file(filename):\n",
    "  f = open(filename)\n",
    "  layercount = int(f.readline().strip())\n",
    "  layers = []\n",
    "  initweight = []\n",
    "  for line in f:\n",
    "    layers.append(line.strip().split(' '))\n",
    "  initweight = list(map(int,layers.pop()))\n",
    "  for l in layers:\n",
    "    l[0] = int(l[0])\n",
    "  return layercount, layers, initweight"
   ]
  },
  {
   "cell_type": "code",
   "execution_count": 8,
   "metadata": {
    "colab": {
     "base_uri": "https://localhost:8080/"
    },
    "id": "_movlBajlaUU",
    "outputId": "b391cbe7-2c4c-47ff-d44a-0a3c07431f6f"
   },
   "outputs": [
    {
     "name": "stdout",
     "output_type": "stream",
     "text": [
      "3\n",
      "[[1, 'linear'], [5, 'sigmoid'], [2, 'relu']]\n",
      "[15]\n"
     ]
    }
   ],
   "source": [
    "layercount, layers, initweight = load_file(\"sample.txt\")\n",
    "print(layercount)\n",
    "print(layers)\n",
    "print(initweight)"
   ]
  },
  {
   "cell_type": "markdown",
   "metadata": {
    "id": "tUWSWgWMgrno"
   },
   "source": [
    "## 3. Implementasi forward propagation"
   ]
  },
  {
   "cell_type": "code",
   "execution_count": 9,
   "metadata": {},
   "outputs": [
    {
     "name": "stdout",
     "output_type": "stream",
     "text": [
      "layer 0\n",
      "  activation: linear\n",
      "  neuron count: 2\n",
      "  neurons:\n",
      "    <f01 = 1>\n",
      "    <f02 = 0>\n",
      "\n",
      "layer 1\n",
      "  activation: relu\n",
      "  neuron count: 2\n",
      "  neurons:\n",
      "    <f11 = 5>\n",
      "    <f12 = 0>\n",
      "\n",
      "\n"
     ]
    }
   ],
   "source": [
    "# setting the value, weight, then forward propagation\n",
    "m.layers[0].neurons[0].update_value(1)\n",
    "m.layers[0].neurons[0].update_children(m.layers[1].neurons[0].id, 5)\n",
    "m.forward_propagation()\n",
    "print(m)"
   ]
  },
  {
   "cell_type": "markdown",
   "metadata": {
    "id": "YezarRz1nWGL"
   },
   "source": [
    "### a. Menampilkan struktur jaringan"
   ]
  },
  {
   "cell_type": "code",
   "execution_count": 10,
   "metadata": {
    "id": "JbxBBSeKnZ3D"
   },
   "outputs": [],
   "source": [
    "def draw_compact_structure(layers):\n",
    "  print(f'x({layers[0][0]})\\t= {layers[0][1]}')\n",
    "  print(' ↓ ')\n",
    "  for i in range(1, len(layers)-1):\n",
    "    print(f'h{i}({layers[i][0]})\\t= {layers[i][1]}')\n",
    "    print(' ↓ ')\n",
    "  print(f'y({layers[i+1][0]})\\t= {layers[i+1][1]}')"
   ]
  },
  {
   "cell_type": "code",
   "execution_count": 11,
   "metadata": {
    "colab": {
     "base_uri": "https://localhost:8080/"
    },
    "id": "s8kXFi3ftXDN",
    "outputId": "e2ceebbb-ce2d-4003-a048-743bbd2cec3d"
   },
   "outputs": [
    {
     "name": "stdout",
     "output_type": "stream",
     "text": [
      "x(1)\t= linear\n",
      " ↓ \n",
      "h1(5)\t= sigmoid\n",
      " ↓ \n",
      "y(2)\t= relu\n"
     ]
    }
   ],
   "source": [
    "draw_compact_structure(layers)"
   ]
  },
  {
   "cell_type": "code",
   "execution_count": 12,
   "metadata": {
    "id": "ljie_uapuoiV"
   },
   "outputs": [],
   "source": [
    "import networkx as nx\n",
    "import matplotlib.pyplot as plt\n",
    "\n",
    "def draw_structure(layers):\n",
    "  G = nx.Graph()\n",
    "\n",
    "  # input\n",
    "  for i in range(layers[0][0]+1): # neuron+bias\n",
    "    G.add_node(f'x{i}', pos=(1, i+1)) # x1, x2, ...\n",
    "\n",
    "  # hidden\n",
    "  for i in range(1, len(layers)-1): # layer+bias\n",
    "    for j in range(layers[i][0]+1): # neuron+bias\n",
    "      G.add_node(f'h{i}{j}', pos=(i+1, j+1)) # hi0, hi1, .., hij\n",
    "      for k in range(layers[i-1][0]+1):\n",
    "        G.add_edge(f'x{k}', f'h{i}{j}')\n",
    "\n",
    "  # output\n",
    "  for i in range(layers[-1][0]): # neuron+bias\n",
    "    for j in range(layers[-2][0]+1): # last hidden layer\n",
    "      G.add_node(f'o{i+1}', pos=(len(layers), i+1))\n",
    "      G.add_edge(f'h{len(layers)-2}{j}', f'o{i+1}')\n",
    "\n",
    "  pos = nx.get_node_attributes(G, 'pos')\n",
    "  fig, ax = plt.subplots()\n",
    "  nx.draw_networkx_nodes(G, pos, ax=ax, node_size=1000)\n",
    "  nx.draw_networkx_edges(G, pos, ax=ax)\n",
    "  labels = {n: n for n in G.nodes()}\n",
    "  nx.draw_networkx_labels(G, pos, labels, font_color='white', ax=ax)\n",
    "  ax.set_xticks([])\n",
    "  ax.set_yticks([])\n",
    "\n",
    "  plt.show()"
   ]
  },
  {
   "cell_type": "code",
   "execution_count": 13,
   "metadata": {
    "colab": {
     "base_uri": "https://localhost:8080/",
     "height": 248
    },
    "id": "Y7dPHPUrTHCO",
    "outputId": "1a6df9da-6997-42ee-b203-173e6713d5bf"
   },
   "outputs": [
    {
     "data": {
      "image/png": "[encoded data removed]",
      "text/plain": [
       "<Figure size 432x288 with 1 Axes>"
      ]
     },
     "metadata": {},
     "output_type": "display_data"
    }
   ],
   "source": [
    "draw_structure(layers)"
   ]
  },
  {
   "cell_type": "markdown",
   "metadata": {
    "id": "F9dJf0RzsCZe"
   },
   "source": [
    "### b. Memprediksi output untuk input 1 instance"
   ]
  },
  {
   "cell_type": "code",
   "execution_count": 14,
   "metadata": {
    "colab": {
     "base_uri": "https://localhost:8080/"
    },
    "id": "uNWoMl9iT1_l",
    "outputId": "570c8b60-fe76-45e9-b9f6-7419daacf338"
   },
   "outputs": [
    {
     "data": {
      "text/plain": [
       "0.999999999994891"
      ]
     },
     "execution_count": 14,
     "metadata": {},
     "output_type": "execute_result"
    }
   ],
   "source": [
    "a = 5\n",
    "sigmoid(5*a+1)"
   ]
  },
  {
   "cell_type": "markdown",
   "metadata": {
    "id": "cpvGLnizsFy2"
   },
   "source": [
    "c. Memprediksi output untuk input batch sejumlah instances"
   ]
  },
  {
   "cell_type": "code",
   "execution_count": null,
   "metadata": {
    "id": "2gHGMHlVvfI3"
   },
   "outputs": [],
   "source": []
  },
  {
   "cell_type": "markdown",
   "metadata": {
    "id": "wxk-phT5gxDR"
   },
   "source": [
    "## 4. Pengujian kebenaran fungsional"
   ]
  }
 ],
 "metadata": {
  "colab": {
   "authorship_tag": "ABX9TyMHPTVh4yCtyRcr4QLDbQOB",
   "include_colab_link": true,
   "provenance": []
  },
  "kernelspec": {
   "display_name": "Python 3 (ipykernel)",
   "language": "python",
   "name": "python3"
  },
  "language_info": {
   "codemirror_mode": {
    "name": "ipython",
    "version": 3
   },
   "file_extension": ".py",
   "mimetype": "text/x-python",
   "name": "python",
   "nbconvert_exporter": "python",
   "pygments_lexer": "ipython3",
   "version": "3.7.9"
  }
 },
 "nbformat": 4,
 "nbformat_minor": 4
}
